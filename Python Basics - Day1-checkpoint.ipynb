{
 "cells": [
  {
   "cell_type": "raw",
   "id": "71819373",
   "metadata": {},
   "source": [
    "Day 1: PYTHON BASICS\n",
    "\n",
    "AI-\n",
    "It is a final product/solution by which able to make decision by itself.\n",
    "Eg: Tesla automated car, gmail reply suggestions, spam mail detection, etc"
   ]
  },
  {
   "cell_type": "code",
   "execution_count": 4,
   "id": "5616135f",
   "metadata": {},
   "outputs": [],
   "source": [
    "# Shift+Tab - Gives you def of that particular function"
   ]
  },
  {
   "cell_type": "code",
   "execution_count": 5,
   "id": "a73764d0",
   "metadata": {},
   "outputs": [],
   "source": [
    "# Python supports 2 types of programming i.e, scripting & OOPS concept(through which you can mobilize entire code)"
   ]
  },
  {
   "cell_type": "raw",
   "id": "02c2e32a",
   "metadata": {},
   "source": [
    "Types of data:\n",
    "\n",
    "1. Integer - Eg: 0,786,45\n",
    "2. Float   - Eg: 89.5,76.96,546.55867\n",
    "3. Complex - Eg: 56j (Complex- Real number+ Imaginary number)\n",
    "4. String  - Eg: \"star\",'887','65,\"6576.7767\" (data which can be stored in double/ single quotes)\n",
    "5. Boolean - Eg: True, False"
   ]
  },
  {
   "cell_type": "code",
   "execution_count": 6,
   "id": "80580b13",
   "metadata": {},
   "outputs": [],
   "source": [
    "s = 56j"
   ]
  },
  {
   "cell_type": "code",
   "execution_count": 7,
   "id": "795dac46",
   "metadata": {},
   "outputs": [
    {
     "data": {
      "text/plain": [
       "complex"
      ]
     },
     "execution_count": 7,
     "metadata": {},
     "output_type": "execute_result"
    }
   ],
   "source": [
    "type(s)"
   ]
  },
  {
   "cell_type": "code",
   "execution_count": 8,
   "id": "1ecb6d37",
   "metadata": {},
   "outputs": [
    {
     "data": {
      "text/plain": [
       "str"
      ]
     },
     "execution_count": 8,
     "metadata": {},
     "output_type": "execute_result"
    }
   ],
   "source": [
    "t= \"kjcb\"\n",
    "type(t)"
   ]
  },
  {
   "cell_type": "code",
   "execution_count": 9,
   "id": "9e14725b",
   "metadata": {},
   "outputs": [
    {
     "data": {
      "text/plain": [
       "complex"
      ]
     },
     "execution_count": 9,
     "metadata": {},
     "output_type": "execute_result"
    }
   ],
   "source": [
    "r = 45766j\n",
    "type(r)"
   ]
  },
  {
   "cell_type": "code",
   "execution_count": 10,
   "id": "0aa5eda7",
   "metadata": {},
   "outputs": [
    {
     "ename": "SyntaxError",
     "evalue": "starred assignment target must be in a list or tuple (<ipython-input-10-2166517faca4>, line 1)",
     "output_type": "error",
     "traceback": [
      "\u001b[1;36m  File \u001b[1;32m\"<ipython-input-10-2166517faca4>\"\u001b[1;36m, line \u001b[1;32m1\u001b[0m\n\u001b[1;33m    *i = True\u001b[0m\n\u001b[1;37m    ^\u001b[0m\n\u001b[1;31mSyntaxError\u001b[0m\u001b[1;31m:\u001b[0m starred assignment target must be in a list or tuple\n"
     ]
    }
   ],
   "source": [
    "*i = True"
   ]
  },
  {
   "cell_type": "code",
   "execution_count": null,
   "id": "3e2f764f",
   "metadata": {},
   "outputs": [],
   "source": [
    "# Variable name cant start with *, ^, &, %, $, #, @, !, "
   ]
  },
  {
   "cell_type": "code",
   "execution_count": null,
   "id": "c0e6e5a8",
   "metadata": {},
   "outputs": [],
   "source": [
    "_i = 34"
   ]
  },
  {
   "cell_type": "code",
   "execution_count": null,
   "id": "e70052de",
   "metadata": {},
   "outputs": [],
   "source": [
    "_i"
   ]
  },
  {
   "cell_type": "code",
   "execution_count": null,
   "id": "c1a828cc",
   "metadata": {},
   "outputs": [],
   "source": [
    "&i = 45"
   ]
  },
  {
   "cell_type": "code",
   "execution_count": null,
   "id": "11a92637",
   "metadata": {},
   "outputs": [],
   "source": [
    "$i = \"we\""
   ]
  },
  {
   "cell_type": "code",
   "execution_count": null,
   "id": "56d01da9",
   "metadata": {},
   "outputs": [],
   "source": [
    "!i =76"
   ]
  },
  {
   "cell_type": "code",
   "execution_count": 11,
   "id": "9c52a76c",
   "metadata": {},
   "outputs": [],
   "source": [
    "# Summation\n",
    "A = 65\n",
    "B = 'Boy'\n",
    "C = 67j+89\n",
    "D = True\n",
    "E = 76485.556"
   ]
  },
  {
   "cell_type": "code",
   "execution_count": 12,
   "id": "c9e62c9e",
   "metadata": {},
   "outputs": [
    {
     "data": {
      "text/plain": [
       "76550.556"
      ]
     },
     "execution_count": 12,
     "metadata": {},
     "output_type": "execute_result"
    }
   ],
   "source": [
    "A+E"
   ]
  },
  {
   "cell_type": "code",
   "execution_count": 13,
   "id": "2310bccd",
   "metadata": {},
   "outputs": [
    {
     "data": {
      "text/plain": [
       "(154+67j)"
      ]
     },
     "execution_count": 13,
     "metadata": {},
     "output_type": "execute_result"
    }
   ],
   "source": [
    "A+C"
   ]
  },
  {
   "cell_type": "code",
   "execution_count": 14,
   "id": "05c88635",
   "metadata": {},
   "outputs": [
    {
     "data": {
      "text/plain": [
       "(65+53j)"
      ]
     },
     "execution_count": 14,
     "metadata": {},
     "output_type": "execute_result"
    }
   ],
   "source": [
    "A+53j"
   ]
  },
  {
   "cell_type": "code",
   "execution_count": 15,
   "id": "5d5ee4bd",
   "metadata": {},
   "outputs": [
    {
     "data": {
      "text/plain": [
       "67.0"
      ]
     },
     "execution_count": 15,
     "metadata": {},
     "output_type": "execute_result"
    }
   ],
   "source": [
    "# Accessing of imaginary & real part of complex number\n",
    "C.imag"
   ]
  },
  {
   "cell_type": "code",
   "execution_count": 16,
   "id": "4cfaa827",
   "metadata": {},
   "outputs": [
    {
     "data": {
      "text/plain": [
       "89.0"
      ]
     },
     "execution_count": 16,
     "metadata": {},
     "output_type": "execute_result"
    }
   ],
   "source": [
    "C.real"
   ]
  },
  {
   "cell_type": "code",
   "execution_count": 18,
   "id": "1a3aedcd",
   "metadata": {},
   "outputs": [
    {
     "name": "stdout",
     "output_type": "stream",
     "text": [
      "BoyTrue\n"
     ]
    }
   ],
   "source": [
    "# Type casting\n",
    "F = B+str(D)\n",
    "print(F)"
   ]
  },
  {
   "cell_type": "code",
   "execution_count": 19,
   "id": "0f243d53",
   "metadata": {},
   "outputs": [
    {
     "name": "stdout",
     "output_type": "stream",
     "text": [
      "76550.556\n"
     ]
    }
   ],
   "source": [
    "G = E+float(A)\n",
    "print(G)"
   ]
  },
  {
   "cell_type": "code",
   "execution_count": 20,
   "id": "6420ace3",
   "metadata": {},
   "outputs": [
    {
     "data": {
      "text/plain": [
       "float"
      ]
     },
     "execution_count": 20,
     "metadata": {},
     "output_type": "execute_result"
    }
   ],
   "source": [
    "type(float(A))"
   ]
  },
  {
   "cell_type": "code",
   "execution_count": 21,
   "id": "ad99d316",
   "metadata": {},
   "outputs": [
    {
     "data": {
      "text/plain": [
       "2"
      ]
     },
     "execution_count": 21,
     "metadata": {},
     "output_type": "execute_result"
    }
   ],
   "source": [
    "True+True"
   ]
  },
  {
   "cell_type": "code",
   "execution_count": 22,
   "id": "16975515",
   "metadata": {},
   "outputs": [
    {
     "data": {
      "text/plain": [
       "1"
      ]
     },
     "execution_count": 22,
     "metadata": {},
     "output_type": "execute_result"
    }
   ],
   "source": [
    "True-False"
   ]
  },
  {
   "cell_type": "code",
   "execution_count": 23,
   "id": "6abbcbdb",
   "metadata": {},
   "outputs": [
    {
     "data": {
      "text/plain": [
       "-1"
      ]
     },
     "execution_count": 23,
     "metadata": {},
     "output_type": "execute_result"
    }
   ],
   "source": [
    "False-True"
   ]
  },
  {
   "cell_type": "code",
   "execution_count": 24,
   "id": "3af552cb",
   "metadata": {},
   "outputs": [],
   "source": [
    "# Add/Sub among Boolean value- Gives int as system takes True as 1 & False as 0"
   ]
  },
  {
   "cell_type": "code",
   "execution_count": 28,
   "id": "c2928df7",
   "metadata": {},
   "outputs": [
    {
     "name": "stdout",
     "output_type": "stream",
     "text": [
      "dfjbsdjb8678656.2u\n"
     ]
    },
    {
     "data": {
      "text/plain": [
       "'dfjbsdjb8678656.2u'"
      ]
     },
     "execution_count": 28,
     "metadata": {},
     "output_type": "execute_result"
    }
   ],
   "source": [
    "# input()- Used when data is to be taken from user\n",
    "H = input()\n",
    "H"
   ]
  },
  {
   "cell_type": "code",
   "execution_count": null,
   "id": "df94c6e7",
   "metadata": {},
   "outputs": [],
   "source": []
  }
 ],
 "metadata": {
  "kernelspec": {
   "display_name": "Python 3",
   "language": "python",
   "name": "python3"
  },
  "language_info": {
   "codemirror_mode": {
    "name": "ipython",
    "version": 3
   },
   "file_extension": ".py",
   "mimetype": "text/x-python",
   "name": "python",
   "nbconvert_exporter": "python",
   "pygments_lexer": "ipython3",
   "version": "3.8.8"
  }
 },
 "nbformat": 4,
 "nbformat_minor": 5
}
