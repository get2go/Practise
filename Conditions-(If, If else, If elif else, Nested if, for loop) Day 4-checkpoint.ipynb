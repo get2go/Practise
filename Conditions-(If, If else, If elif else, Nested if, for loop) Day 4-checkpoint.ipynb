{
 "cells": [
  {
   "cell_type": "code",
   "execution_count": 1,
   "id": "8c7d987f",
   "metadata": {},
   "outputs": [
    {
     "name": "stdout",
     "output_type": "stream",
     "text": [
      "9 is a natural number\n"
     ]
    }
   ],
   "source": [
    "# If Condition\n",
    "a = 9\n",
    "if a <=9:\n",
    "    print(a,\"is a natural number\" )"
   ]
  },
  {
   "cell_type": "code",
   "execution_count": 2,
   "id": "027de10d",
   "metadata": {},
   "outputs": [
    {
     "name": "stdout",
     "output_type": "stream",
     "text": [
      "He need to improve\n"
     ]
    }
   ],
   "source": [
    "# If else condition\n",
    "income = 1000\n",
    "if income > 1000:\n",
    "    print(\"He earns okay\")    \n",
    "else:\n",
    "    print(\"He need to improve\")"
   ]
  },
  {
   "cell_type": "code",
   "execution_count": 3,
   "id": "e4058f4e",
   "metadata": {},
   "outputs": [
    {
     "name": "stdout",
     "output_type": "stream",
     "text": [
      "I can afford all of the above\n"
     ]
    }
   ],
   "source": [
    "# If, elif, else condition\n",
    "salary = 100\n",
    "if salary < 30:\n",
    "    print(\"Will be able to buy a meal a day\")\n",
    "elif salary < 50:\n",
    "    print(\"Will be able to buy a dress\")\n",
    "elif salary < 75:\n",
    "    print(\"Will be able to rent a car\")\n",
    "else:\n",
    "    print(\"I can afford all of the above\")"
   ]
  },
  {
   "cell_type": "code",
   "execution_count": 4,
   "id": "3012f0aa",
   "metadata": {},
   "outputs": [
    {
     "name": "stdout",
     "output_type": "stream",
     "text": [
      "4500\n",
      "Discount is not applicable\n"
     ]
    }
   ],
   "source": [
    "Final_price = int(input())\n",
    "if Final_price > 20000:\n",
    "    Dis = Final_price *.20\n",
    "    print(\"Discount is\", Dis)\n",
    "elif Final_price > 25000:\n",
    "    Dis = Final_price *.25\n",
    "    print(\"Discount is\", Dis)\n",
    "elif Final_price > 15000:\n",
    "    Dis = Final_price *.10\n",
    "    print(\"Discount is\", Dis)\n",
    "elif Final_price < 10000:\n",
    "    print(\"Discount is not applicable\")\n",
    "else:\n",
    "    print(\"You got maximum deal\")"
   ]
  },
  {
   "cell_type": "code",
   "execution_count": 5,
   "id": "727bae1f",
   "metadata": {},
   "outputs": [
    {
     "name": "stdout",
     "output_type": "stream",
     "text": [
      "Sale\n",
      "You're eligible for a discount of 20%\n"
     ]
    }
   ],
   "source": [
    "coup = input()\n",
    "if coup == \"FRAMES\":\n",
    "    print(\"You are eligible for a discount of 500\")\n",
    "elif coup == \"Season\":\n",
    "    print(\"You're eligible for a discount of 10%\")\n",
    "elif coup == \"Sale\":\n",
    "    print(\"You're eligible for a discount of 20%\")\n",
    "elif coup == \"Season Sale\":\n",
    "    print(\"You're eligible for a discount of 3000\")\n",
    "elif coup == \"Discount\":\n",
    "    print(\"You're eligible for a discount of 25%\")\n",
    "else:\n",
    "    print(\"Invalid input\")"
   ]
  },
  {
   "cell_type": "code",
   "execution_count": 7,
   "id": "2d46ed4e",
   "metadata": {},
   "outputs": [
    {
     "name": "stdout",
     "output_type": "stream",
     "text": [
      "Season Sale\n",
      "800\n",
      "Your Final price is -700\n"
     ]
    }
   ],
   "source": [
    "coup = input()\n",
    "MRP  = int(input())\n",
    "if coup == \"FRAMES\":\n",
    "    Final_Price = MRP - 500\n",
    "    print(\"Your Final price is\", Final_Price)\n",
    "elif coup == \"Season\":\n",
    "    Final_Price = MRP - MRP*.1\n",
    "    print(\"Your Final price is\", Final_Price)\n",
    "elif coup == \"Sale\":\n",
    "    Final_Price = MRP- MRP*.2\n",
    "    print(\"Your Final price is\", Final_Price)\n",
    "elif coup == \"Season Sale\":\n",
    "    Final_Price = MRP - 1500\n",
    "    print(\"Your Final price is\", Final_Price)\n",
    "elif coup == \"Discount\":\n",
    "    Final_Price = MRP - MRP*.25 \n",
    "    print(\"Your Final price is\", Final_Price)\n",
    "else:\n",
    "    print(\"Invalid input\")"
   ]
  },
  {
   "cell_type": "code",
   "execution_count": 8,
   "id": "c1a325f2",
   "metadata": {},
   "outputs": [
    {
     "name": "stdout",
     "output_type": "stream",
     "text": [
      "3\n",
      "It may take 8-10 months to complete the course\n"
     ]
    }
   ],
   "source": [
    "study_hour = int(input())\n",
    "if study_hour <2:\n",
    "    print(\"It may take more than a year to complete the course\")\n",
    "elif study_hour <4 and study_hour>2:\n",
    "    print(\"It may take 8-10 months to complete the course\")\n",
    "elif study_hour <6 and study_hour>4:\n",
    "    print(\"It may take 6 months to complete the course\")\n",
    "else:\n",
    "    print(\"Please give valid input\")"
   ]
  },
  {
   "cell_type": "code",
   "execution_count": 9,
   "id": "39022531",
   "metadata": {},
   "outputs": [
    {
     "name": "stdout",
     "output_type": "stream",
     "text": [
      "4.2\n",
      "It may take 6 months to complete the course\n"
     ]
    }
   ],
   "source": [
    "study_hour = float(input())\n",
    "if study_hour <2:\n",
    "    print(\"It may take more than a year to complete the course\")\n",
    "elif study_hour <4 and study_hour>2:\n",
    "    print(\"It may take 8-10 months to complete the course\")\n",
    "elif study_hour <6 and study_hour>4:\n",
    "    print(\"It may take 6 months to complete the course\")\n",
    "else:\n",
    "    print(\"Please give valid input\")"
   ]
  },
  {
   "cell_type": "code",
   "execution_count": 10,
   "id": "b328e08a",
   "metadata": {},
   "outputs": [
    {
     "name": "stdout",
     "output_type": "stream",
     "text": [
      "dats\n",
      "FSDS\n",
      "Thank you for your interest in Inueron services\n"
     ]
    }
   ],
   "source": [
    "# Nested if,elif and else statement\n",
    "course = input()\n",
    "service = input()\n",
    "if course == \"DataScience\":\n",
    "    if course ==\"FSDS\":\n",
    "        print(\"Course is available and you're eligible to enroll the course\")\n",
    "    else:\n",
    "        print(\"Please give valid input\")\n",
    "elif course ==\"1nueron\":\n",
    "    if course==\"Blockchain\":\n",
    "        print(\"Course is available and you can start the course by purchasing it\")\n",
    "    elif course==\"Hadoop\":\n",
    "        print(\"Course is currently unavailable, you can check for other courses\")\n",
    "    elif course==\"BigData\":\n",
    "        print(\"Course is under progress, it will be available in 30 days\")\n",
    "elif course == \"DataScience servives\":\n",
    "    if service == \"Technical expert help\":\n",
    "        print(\"Soon our technical expert team will get back to you\")\n",
    "    elif service== \"Course structure details\":\n",
    "        print(\"You can check under course details\")\n",
    "    elif service == \"Payment related query\":\n",
    "        print(\"Our team will soon reach you out\")\n",
    "elif course == \"1nueron services\":\n",
    "    if service == \"Course request\":\n",
    "        print(\"Dear student, you can raise request for new course, our team will soon reach you out\")\n",
    "    elif service == \"Module request\":\n",
    "        print(\"Dear student, you can raise a demand for new module in the course, we will fulfill your query in next 7 days\")\n",
    "    elif service ==\"Payment related\":\n",
    "        print(\"Our team will help you out in resolving it\")\n",
    "    elif service == \"Request for technical expertise\":\n",
    "        print(\"Please provide your details, our team will contact you asap\")\n",
    "else:\n",
    "    print(\"Thank you for your interest in Inueron services\")"
   ]
  },
  {
   "cell_type": "code",
   "execution_count": 11,
   "id": "34fb4365",
   "metadata": {},
   "outputs": [
    {
     "name": "stdout",
     "output_type": "stream",
     "text": [
      "4\n",
      "90\n",
      "112\n",
      "174\n",
      "512\n",
      "134\n",
      "18\n"
     ]
    }
   ],
   "source": [
    "# For loop\n",
    "\n",
    "R = [2,45,56,87,256,67,9]\n",
    "for i in R:\n",
    "    print(2*i)"
   ]
  },
  {
   "cell_type": "code",
   "execution_count": 12,
   "id": "f08f8a40",
   "metadata": {},
   "outputs": [
    {
     "name": "stdout",
     "output_type": "stream",
     "text": [
      "data type of 1 is <class 'int'>\n",
      "data type of 3 is <class 'int'>\n",
      "data type of 5 is <class 'int'>\n",
      "data type of 6 is <class 'int'>\n",
      "data type of tuple is <class 'str'>\n",
      "data type of 52.63 is <class 'float'>\n",
      "data type of 987j is <class 'complex'>\n"
     ]
    }
   ],
   "source": [
    "t = (1,3,5,6,\"tuple\",52.63,987j)\n",
    "for i in t:\n",
    "    print(\"data type of\", i, \"is\", type(i))"
   ]
  },
  {
   "cell_type": "code",
   "execution_count": 13,
   "id": "44fd604d",
   "metadata": {},
   "outputs": [
    {
     "name": "stdout",
     "output_type": "stream",
     "text": [
      "3\n",
      "5\n",
      "7\n",
      "8\n",
      "54.63\n",
      "(2+987j)\n",
      "[3, 5, 7, 8, 54.63, (2+987j)]\n"
     ]
    }
   ],
   "source": [
    "L1 =[]\n",
    "L = [1,3,5,6,52.63,987j]\n",
    "for i in L:\n",
    "    print(i+2)\n",
    "    L1.append(i+2)\n",
    "print(L1)"
   ]
  },
  {
   "cell_type": "code",
   "execution_count": 14,
   "id": "952544d9",
   "metadata": {},
   "outputs": [
    {
     "name": "stdout",
     "output_type": "stream",
     "text": [
      "[4]\n",
      "[4, 6]\n",
      "[4, 6, 8]\n",
      "[4, 6, 8, 10]\n",
      "up\n",
      "down\n",
      "[[56, 9, 34, 90, 5, 56, 9, 34, 90, 5]]\n",
      "23j\n",
      "[4, 6, 8, 10, 877]\n"
     ]
    }
   ],
   "source": [
    "A =[]\n",
    "K1 = []\n",
    "K = [3,5,7,9,\"up\",'down',[56,9,34,90,5],23j,876]\n",
    "for i in K:\n",
    "    if type(i)==int:\n",
    "        A.append(i+1)\n",
    "        print(A)\n",
    "\n",
    "    elif type(i) == list:\n",
    "        K1.append(i*2)\n",
    "        print(K1)\n",
    "    \n",
    "    else:\n",
    "        print(i)\n",
    "    "
   ]
  },
  {
   "cell_type": "code",
   "execution_count": 17,
   "id": "77bbccb0",
   "metadata": {},
   "outputs": [
    {
     "data": {
      "text/plain": [
       "[4, 6, 8, 10, 877]"
      ]
     },
     "execution_count": 17,
     "metadata": {},
     "output_type": "execute_result"
    }
   ],
   "source": [
    "A"
   ]
  },
  {
   "cell_type": "code",
   "execution_count": 18,
   "id": "72ee4a36",
   "metadata": {},
   "outputs": [
    {
     "data": {
      "text/plain": [
       "[[56, 9, 34, 90, 5, 56, 9, 34, 90, 5]]"
      ]
     },
     "execution_count": 18,
     "metadata": {},
     "output_type": "execute_result"
    }
   ],
   "source": [
    "K1"
   ]
  },
  {
   "cell_type": "code",
   "execution_count": 31,
   "id": "e3750c60",
   "metadata": {},
   "outputs": [],
   "source": [
    "A1 = [2,45,78,12,\"abs\",9+85j,[43,8,68],45,78,12,50,89,(\"fbvb\",5623,4j)]"
   ]
  },
  {
   "cell_type": "code",
   "execution_count": 35,
   "id": "e1a56626",
   "metadata": {},
   "outputs": [
    {
     "name": "stdout",
     "output_type": "stream",
     "text": [
      "Index of 2 is 0\n",
      "Index of 45 is 1\n",
      "Index of 78 is 2\n",
      "Index of 12 is 3\n",
      "Index of abs is 4\n",
      "Index of (9+85j) is 5\n",
      "Index of [43, 8, 68] is 6\n",
      "Index of 45 is 1\n",
      "Index of 78 is 2\n",
      "Index of 12 is 3\n",
      "Index of 50 is 10\n",
      "Index of 89 is 11\n",
      "Index of ('fbvb', 5623, 4j) is 12\n"
     ]
    }
   ],
   "source": [
    "# Index of all the elements in List\n",
    "for i in A1:\n",
    "    print(\"Index of\",i,\"is\",A1.index(i))"
   ]
  },
  {
   "cell_type": "raw",
   "id": "caa825ae",
   "metadata": {},
   "source": [
    "TypeError: builtin_function_or_method object is not subscriptable is a “typeerror”-\n",
    "    It occurs when you try to call a built-in function the wrong way."
   ]
  },
  {
   "cell_type": "raw",
   "id": "b8569d77",
   "metadata": {},
   "source": [
    "Index inbuilt function isn't advisable to use when a list has repetitive elements, as it gives index of 1st occurance only."
   ]
  },
  {
   "cell_type": "code",
   "execution_count": 34,
   "id": "bbb1a104",
   "metadata": {},
   "outputs": [
    {
     "name": "stdout",
     "output_type": "stream",
     "text": [
      "Index of 0 is 2\n",
      "Index of 1 is 45\n",
      "Index of 2 is 78\n",
      "Index of 3 is 12\n",
      "Index of 4 is abs\n",
      "Index of 5 is (9+85j)\n",
      "Index of 6 is [43, 8, 68]\n",
      "Index of 7 is 45\n",
      "Index of 8 is 78\n",
      "Index of 9 is 12\n",
      "Index of 10 is 50\n",
      "Index of 11 is 89\n",
      "Index of 12 is ('fbvb', 5623, 4j)\n"
     ]
    }
   ],
   "source": [
    "# Another way to determine index of elements present in list:\n",
    "for i in range(len(A1)):\n",
    "    print(\"Index of\",i,\"is\",A1[i])"
   ]
  },
  {
   "cell_type": "raw",
   "id": "8d7ca26c",
   "metadata": {},
   "source": [
    "For accessing of elements - bracket should be used is \"[]\" not '()'."
   ]
  },
  {
   "cell_type": "code",
   "execution_count": 36,
   "id": "b723218d",
   "metadata": {},
   "outputs": [
    {
     "name": "stdout",
     "output_type": "stream",
     "text": [
      "(0, 2)\n",
      "(1, 45)\n",
      "(2, 78)\n",
      "(3, 12)\n",
      "(4, 'abs')\n",
      "(5, (9+85j))\n",
      "(6, [43, 8, 68])\n",
      "(7, 45)\n",
      "(8, 78)\n",
      "(9, 12)\n",
      "(10, 50)\n",
      "(11, 89)\n",
      "(12, ('fbvb', 5623, 4j))\n"
     ]
    }
   ],
   "source": [
    "# Another way to determine index of elements in List:\n",
    "for i in enumerate(A1):\n",
    "    print(i)"
   ]
  },
  {
   "cell_type": "code",
   "execution_count": 37,
   "id": "93c132b9",
   "metadata": {},
   "outputs": [
    {
     "name": "stdout",
     "output_type": "stream",
     "text": [
      "0 2\n",
      "1 45\n",
      "2 78\n",
      "3 12\n",
      "4 abs\n",
      "5 (9+85j)\n",
      "6 [43, 8, 68]\n",
      "7 45\n",
      "8 78\n",
      "9 12\n",
      "10 50\n",
      "11 89\n",
      "12 ('fbvb', 5623, 4j)\n"
     ]
    }
   ],
   "source": [
    "# Another way to determine index of elements in List:\n",
    "for i,j in enumerate(A1):\n",
    "    print(i,j)"
   ]
  },
  {
   "cell_type": "code",
   "execution_count": 27,
   "id": "b444584d",
   "metadata": {},
   "outputs": [
    {
     "name": "stdout",
     "output_type": "stream",
     "text": [
      "['a', 'b', 's', 'f', 'b', 'v', 'b']\n"
     ]
    }
   ],
   "source": [
    "# Extraction of list of characters if element is string in complete List\n",
    "A2 = []\n",
    "for i in A1:\n",
    "    if type(i)==str:\n",
    "        for j in i:\n",
    "            A2.append(j)\n",
    "    elif type(i)==list:\n",
    "        for k in i:\n",
    "            if type(k)==str:\n",
    "                for l in k:\n",
    "                    A2.append(l)\n",
    "    elif type(i)==tuple:\n",
    "        for m in i:\n",
    "            if type(m)==str:\n",
    "                for n in m:\n",
    "                    A2.append(n)\n",
    "    else:\n",
    "        pass\n",
    "print(A2)"
   ]
  },
  {
   "cell_type": "code",
   "execution_count": 30,
   "id": "4dd24f3a",
   "metadata": {},
   "outputs": [
    {
     "name": "stdout",
     "output_type": "stream",
     "text": [
      "[4, 2025, 6084, 144]\n"
     ]
    }
   ],
   "source": [
    "# Return a list of squares of all integer elements in list\n",
    "A3 = []\n",
    "for i in A1:\n",
    "    if type(i)==int:\n",
    "        A3.append(i**2)\n",
    "print(A3)"
   ]
  },
  {
   "cell_type": "code",
   "execution_count": null,
   "id": "b9e8c07f",
   "metadata": {},
   "outputs": [],
   "source": [
    "# Note: Square rep - 1) i*i 2) i**2"
   ]
  },
  {
   "cell_type": "code",
   "execution_count": null,
   "id": "46d7bf53",
   "metadata": {},
   "outputs": [],
   "source": []
  }
 ],
 "metadata": {
  "kernelspec": {
   "display_name": "Python 3",
   "language": "python",
   "name": "python3"
  },
  "language_info": {
   "codemirror_mode": {
    "name": "ipython",
    "version": 3
   },
   "file_extension": ".py",
   "mimetype": "text/x-python",
   "name": "python",
   "nbconvert_exporter": "python",
   "pygments_lexer": "ipython3",
   "version": "3.8.8"
  }
 },
 "nbformat": 4,
 "nbformat_minor": 5
}
