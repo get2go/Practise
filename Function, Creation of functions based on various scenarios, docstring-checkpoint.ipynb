{
 "cells": [
  {
   "cell_type": "code",
   "execution_count": 1,
   "id": "e43a0105",
   "metadata": {},
   "outputs": [],
   "source": [
    "def test():\n",
    "    print(\"Its a test purpose function\")"
   ]
  },
  {
   "cell_type": "raw",
   "id": "da894604",
   "metadata": {},
   "source": [
    "def is a standard keyword used to define function"
   ]
  },
  {
   "cell_type": "code",
   "execution_count": 2,
   "id": "6437045c",
   "metadata": {},
   "outputs": [
    {
     "name": "stdout",
     "output_type": "stream",
     "text": [
      "Its a test purpose function\n"
     ]
    }
   ],
   "source": [
    "test()"
   ]
  },
  {
   "cell_type": "code",
   "execution_count": 3,
   "id": "9c938832",
   "metadata": {},
   "outputs": [
    {
     "name": "stdout",
     "output_type": "stream",
     "text": [
      "Its a test purpose function\n"
     ]
    },
    {
     "data": {
      "text/plain": [
       "NoneType"
      ]
     },
     "execution_count": 3,
     "metadata": {},
     "output_type": "execute_result"
    }
   ],
   "source": [
    "type(test())"
   ]
  },
  {
   "cell_type": "code",
   "execution_count": 4,
   "id": "4d856a6b",
   "metadata": {},
   "outputs": [],
   "source": [
    "# Print always return \"Nonetype\" irrespective of input given to it"
   ]
  },
  {
   "cell_type": "code",
   "execution_count": 5,
   "id": "c9421d1a",
   "metadata": {},
   "outputs": [
    {
     "name": "stdout",
     "output_type": "stream",
     "text": [
      "Its a test purpose function\n"
     ]
    }
   ],
   "source": [
    "a = test()"
   ]
  },
  {
   "cell_type": "code",
   "execution_count": 6,
   "id": "2e46e763",
   "metadata": {},
   "outputs": [],
   "source": [
    "a"
   ]
  },
  {
   "cell_type": "code",
   "execution_count": 7,
   "id": "eb74696f",
   "metadata": {},
   "outputs": [
    {
     "ename": "TypeError",
     "evalue": "unsupported operand type(s) for +: 'NoneType' and 'str'",
     "output_type": "error",
     "traceback": [
      "\u001b[1;31m---------------------------------------------------------------------------\u001b[0m",
      "\u001b[1;31mTypeError\u001b[0m                                 Traceback (most recent call last)",
      "\u001b[1;32m<ipython-input-7-ae60eb5dfabd>\u001b[0m in \u001b[0;36m<module>\u001b[1;34m\u001b[0m\n\u001b[1;32m----> 1\u001b[1;33m \u001b[0ma\u001b[0m \u001b[1;33m+\u001b[0m \u001b[1;34m\"trial\"\u001b[0m\u001b[1;33m\u001b[0m\u001b[1;33m\u001b[0m\u001b[0m\n\u001b[0m",
      "\u001b[1;31mTypeError\u001b[0m: unsupported operand type(s) for +: 'NoneType' and 'str'"
     ]
    }
   ],
   "source": [
    "a + \"trial\""
   ]
  },
  {
   "cell_type": "code",
   "execution_count": 8,
   "id": "870ed46b",
   "metadata": {},
   "outputs": [
    {
     "data": {
      "text/plain": [
       "NoneType"
      ]
     },
     "execution_count": 8,
     "metadata": {},
     "output_type": "execute_result"
    }
   ],
   "source": [
    "type(a)"
   ]
  },
  {
   "cell_type": "code",
   "execution_count": 9,
   "id": "3893a7dc",
   "metadata": {},
   "outputs": [
    {
     "data": {
      "text/plain": [
       "'None'"
      ]
     },
     "execution_count": 9,
     "metadata": {},
     "output_type": "execute_result"
    }
   ],
   "source": [
    "str(a)"
   ]
  },
  {
   "cell_type": "raw",
   "id": "44149122",
   "metadata": {},
   "source": [
    "So when u try to type cast 'NoneType' to string, it gives output as 'None'"
   ]
  },
  {
   "cell_type": "code",
   "execution_count": 10,
   "id": "d73a6228",
   "metadata": {},
   "outputs": [],
   "source": [
    "# Problem-1 : Creating a fun where output can be concatenated with other data types\n",
    "# As print by default gives NoneType,it cant be concatenated with other data types\n",
    "def test1():\n",
    "    return \"I visited US\""
   ]
  },
  {
   "cell_type": "code",
   "execution_count": 11,
   "id": "eb10ab24",
   "metadata": {},
   "outputs": [
    {
     "data": {
      "text/plain": [
       "'I visited US'"
      ]
     },
     "execution_count": 11,
     "metadata": {},
     "output_type": "execute_result"
    }
   ],
   "source": [
    "test1()"
   ]
  },
  {
   "cell_type": "code",
   "execution_count": 12,
   "id": "89ac0c4d",
   "metadata": {},
   "outputs": [
    {
     "data": {
      "text/plain": [
       "str"
      ]
     },
     "execution_count": 12,
     "metadata": {},
     "output_type": "execute_result"
    }
   ],
   "source": [
    "type(test1())"
   ]
  },
  {
   "cell_type": "raw",
   "id": "c5617f31",
   "metadata": {},
   "source": [
    "Return - Always give output in input data type given whereas Print gives only 'NoneType'"
   ]
  },
  {
   "cell_type": "code",
   "execution_count": 13,
   "id": "1ee1d0ed",
   "metadata": {},
   "outputs": [],
   "source": [
    "def test2():\n",
    "    return 7854"
   ]
  },
  {
   "cell_type": "code",
   "execution_count": 14,
   "id": "26de6c64",
   "metadata": {},
   "outputs": [
    {
     "data": {
      "text/plain": [
       "7444"
      ]
     },
     "execution_count": 14,
     "metadata": {},
     "output_type": "execute_result"
    }
   ],
   "source": [
    "test2()-410"
   ]
  },
  {
   "cell_type": "code",
   "execution_count": 15,
   "id": "92489ad8",
   "metadata": {},
   "outputs": [],
   "source": [
    "def test3():\n",
    "    return 1,3,43,67,789j,[34,76,978,\"tgh\"],(76,67,64)"
   ]
  },
  {
   "cell_type": "code",
   "execution_count": 16,
   "id": "89b28660",
   "metadata": {},
   "outputs": [
    {
     "data": {
      "text/plain": [
       "(1, 3, 43, 67, 789j, [34, 76, 978, 'tgh'], (76, 67, 64))"
      ]
     },
     "execution_count": 16,
     "metadata": {},
     "output_type": "execute_result"
    }
   ],
   "source": [
    "test3()"
   ]
  },
  {
   "cell_type": "raw",
   "id": "25b115d1",
   "metadata": {},
   "source": [
    "Return fun - Can return multiple objects at once as a collection, by default data type is \"Tuple\"."
   ]
  },
  {
   "cell_type": "code",
   "execution_count": 17,
   "id": "f3236a28",
   "metadata": {},
   "outputs": [],
   "source": [
    "b = test3()"
   ]
  },
  {
   "cell_type": "code",
   "execution_count": 18,
   "id": "84eeb8ce",
   "metadata": {},
   "outputs": [
    {
     "data": {
      "text/plain": [
       "tuple"
      ]
     },
     "execution_count": 18,
     "metadata": {},
     "output_type": "execute_result"
    }
   ],
   "source": [
    "type(b)"
   ]
  },
  {
   "cell_type": "code",
   "execution_count": 19,
   "id": "1e2b72d9",
   "metadata": {},
   "outputs": [
    {
     "data": {
      "text/plain": [
       "[34, 76, 978, 'tgh']"
      ]
     },
     "execution_count": 19,
     "metadata": {},
     "output_type": "execute_result"
    }
   ],
   "source": [
    "b[-2]"
   ]
  },
  {
   "cell_type": "code",
   "execution_count": 20,
   "id": "3a086427",
   "metadata": {},
   "outputs": [],
   "source": [
    "# Problem-2: Allocating multiple objects to multiple variables at once\n",
    "w,e,r,t,h,s,i = test3()"
   ]
  },
  {
   "cell_type": "code",
   "execution_count": 21,
   "id": "1d5e1690",
   "metadata": {},
   "outputs": [
    {
     "data": {
      "text/plain": [
       "1"
      ]
     },
     "execution_count": 21,
     "metadata": {},
     "output_type": "execute_result"
    }
   ],
   "source": [
    "w"
   ]
  },
  {
   "cell_type": "code",
   "execution_count": 22,
   "id": "33430780",
   "metadata": {},
   "outputs": [
    {
     "data": {
      "text/plain": [
       "3"
      ]
     },
     "execution_count": 22,
     "metadata": {},
     "output_type": "execute_result"
    }
   ],
   "source": [
    "e"
   ]
  },
  {
   "cell_type": "code",
   "execution_count": 23,
   "id": "1302afe3",
   "metadata": {},
   "outputs": [
    {
     "data": {
      "text/plain": [
       "(76, 67, 64)"
      ]
     },
     "execution_count": 23,
     "metadata": {},
     "output_type": "execute_result"
    }
   ],
   "source": [
    "i"
   ]
  },
  {
   "cell_type": "code",
   "execution_count": 24,
   "id": "d11cab4b",
   "metadata": {},
   "outputs": [
    {
     "data": {
      "text/plain": [
       "[34, 76, 978, 'tgh']"
      ]
     },
     "execution_count": 24,
     "metadata": {},
     "output_type": "execute_result"
    }
   ],
   "source": [
    "s"
   ]
  },
  {
   "cell_type": "code",
   "execution_count": 25,
   "id": "5413ea25",
   "metadata": {},
   "outputs": [
    {
     "data": {
      "text/plain": [
       "complex"
      ]
     },
     "execution_count": 25,
     "metadata": {},
     "output_type": "execute_result"
    }
   ],
   "source": [
    "type(h)"
   ]
  },
  {
   "cell_type": "code",
   "execution_count": 26,
   "id": "277c8b61",
   "metadata": {},
   "outputs": [],
   "source": [
    "def test4():\n",
    "    return 6*8/4"
   ]
  },
  {
   "cell_type": "code",
   "execution_count": 27,
   "id": "7f39a635",
   "metadata": {},
   "outputs": [
    {
     "data": {
      "text/plain": [
       "12.0"
      ]
     },
     "execution_count": 27,
     "metadata": {},
     "output_type": "execute_result"
    }
   ],
   "source": [
    "test4()"
   ]
  },
  {
   "cell_type": "code",
   "execution_count": 28,
   "id": "cb7cac5d",
   "metadata": {},
   "outputs": [],
   "source": [
    "# So we can even write a logic(both simplex & complex) as well inside the function"
   ]
  },
  {
   "cell_type": "code",
   "execution_count": 37,
   "id": "a6536ee4",
   "metadata": {},
   "outputs": [],
   "source": [
    "# Problem-3: Define a filter function which takes input as list, gives output only list of integers\n",
    "\n",
    "def test5(l):\n",
    "    m = []\n",
    "    if type(l) == list:\n",
    "        for i in l:\n",
    "            if type(i)==int:\n",
    "                m.append(i)\n",
    "                \n",
    "    return m\n",
    "                "
   ]
  },
  {
   "cell_type": "code",
   "execution_count": 38,
   "id": "f9d774bb",
   "metadata": {},
   "outputs": [
    {
     "data": {
      "text/plain": [
       "[]"
      ]
     },
     "execution_count": 38,
     "metadata": {},
     "output_type": "execute_result"
    }
   ],
   "source": [
    "L1 = (1,5,8,6)\n",
    "test5(L1)"
   ]
  },
  {
   "cell_type": "code",
   "execution_count": 40,
   "id": "c9a6b23d",
   "metadata": {},
   "outputs": [
    {
     "data": {
      "text/plain": [
       "[45, 78, 90, 33]"
      ]
     },
     "execution_count": 40,
     "metadata": {},
     "output_type": "execute_result"
    }
   ],
   "source": [
    "L2 =[45,78,90,33,[\"st\",\"paul\",852,86.2,6j],[(1,5,9),[4,5,6,7]]]\n",
    "test5(L2)"
   ]
  },
  {
   "cell_type": "code",
   "execution_count": 45,
   "id": "cae9330f",
   "metadata": {},
   "outputs": [],
   "source": [
    "# Problem-4: Define a function where input as dictionary, gives output a list of keys\n",
    "\n",
    "def test6(s):\n",
    "    if type(s)==dict:\n",
    "        return s.keys()\n",
    "    else:\n",
    "        return \"Please give input in dictionary\""
   ]
  },
  {
   "cell_type": "code",
   "execution_count": 46,
   "id": "8fa38f45",
   "metadata": {},
   "outputs": [
    {
     "data": {
      "text/plain": [
       "dict_keys(['s', 'cia', 'vetour'])"
      ]
     },
     "execution_count": 46,
     "metadata": {},
     "output_type": "execute_result"
    }
   ],
   "source": [
    "c = {\"s\":\"hello\",\"cia\":\"morning\",\"vetour\":\"evening\"}\n",
    "test6(c)"
   ]
  },
  {
   "cell_type": "code",
   "execution_count": 44,
   "id": "5c808c23",
   "metadata": {},
   "outputs": [
    {
     "data": {
      "text/plain": [
       "'Please give input in dictionary'"
      ]
     },
     "execution_count": 44,
     "metadata": {},
     "output_type": "execute_result"
    }
   ],
   "source": [
    "test6(23)"
   ]
  },
  {
   "cell_type": "code",
   "execution_count": 48,
   "id": "61f6115c",
   "metadata": {},
   "outputs": [
    {
     "data": {
      "text/plain": [
       "dict_keys([(4, 5), 3, 6j])"
      ]
     },
     "execution_count": 48,
     "metadata": {},
     "output_type": "execute_result"
    }
   ],
   "source": [
    "test6({(4,5):\"hello\",3:\"morning\",6j:\"evening\"})"
   ]
  },
  {
   "cell_type": "code",
   "execution_count": 51,
   "id": "cebf143b",
   "metadata": {},
   "outputs": [],
   "source": [
    "#Problem-5: Define a function where multiple objects as input, output as concatenation of both of them\n",
    "def test7(m,n):\n",
    "    if type(m)==list and type(n)==list:\n",
    "        m.extend(n)\n",
    "        return m\n",
    "    else:\n",
    "        return \"Either 1 of your data is not list\""
   ]
  },
  {
   "cell_type": "code",
   "execution_count": 52,
   "id": "3a97b1a5",
   "metadata": {},
   "outputs": [
    {
     "data": {
      "text/plain": [
       "[2.4, 5, 55, 'str', 86, 53.2]"
      ]
     },
     "execution_count": 52,
     "metadata": {},
     "output_type": "execute_result"
    }
   ],
   "source": [
    "test7([2.4,5,55,'str'],[86,53.2])"
   ]
  },
  {
   "cell_type": "code",
   "execution_count": 54,
   "id": "233ec810",
   "metadata": {},
   "outputs": [
    {
     "data": {
      "text/plain": [
       "'Either 1 of your data is not list'"
      ]
     },
     "execution_count": 54,
     "metadata": {},
     "output_type": "execute_result"
    }
   ],
   "source": [
    "test7((556,67,\"dh\"),['hollow'])"
   ]
  },
  {
   "cell_type": "code",
   "execution_count": 90,
   "id": "e23279f9",
   "metadata": {},
   "outputs": [],
   "source": [
    "# Problem-6: Create a function which prints a triangle\n",
    "def test8(q):\n",
    "    \"\"\"\n",
    "    Generates a triangle with given number of rows\n",
    "    Input- Accepts only integer\n",
    "    Output - Generates triangle \n",
    "    \"\"\"\n",
    "    if type(q)==int:\n",
    "        for i in range(0,q):\n",
    "            for j in range(0,i+1):\n",
    "                print(\"+\" ,end=\"\")\n",
    "            print(\"\\r\")\n",
    "    else:\n",
    "        return \"Give input as integer\"\n",
    "            "
   ]
  },
  {
   "cell_type": "raw",
   "id": "b0e5d074",
   "metadata": {},
   "source": [
    "Docstring-\n",
    "Words return in triple quotes(\"\"\"\"\"\") inside the function(under def line) gives user a hint about function functionality"
   ]
  },
  {
   "cell_type": "code",
   "execution_count": 88,
   "id": "2b288a28",
   "metadata": {},
   "outputs": [
    {
     "name": "stdout",
     "output_type": "stream",
     "text": [
      "+\r\n",
      "++\r\n",
      "+++\r\n",
      "++++\r\n"
     ]
    }
   ],
   "source": [
    "test8(4)"
   ]
  },
  {
   "cell_type": "code",
   "execution_count": 71,
   "id": "63d6bc12",
   "metadata": {},
   "outputs": [
    {
     "data": {
      "text/plain": [
       "'Give input as integer'"
      ]
     },
     "execution_count": 71,
     "metadata": {},
     "output_type": "execute_result"
    }
   ],
   "source": [
    "test8(1.3)"
   ]
  },
  {
   "cell_type": "code",
   "execution_count": 74,
   "id": "e67a7314",
   "metadata": {},
   "outputs": [
    {
     "name": "stdout",
     "output_type": "stream",
     "text": [
      "+\r\n",
      "++\r\n",
      "+++\r\n",
      "++++\r\n",
      "+++++\r\n",
      "++++++\r\n",
      "+++++++\r\n",
      "++++++++\r\n"
     ]
    }
   ],
   "source": [
    "test8(8)"
   ]
  },
  {
   "cell_type": "code",
   "execution_count": 93,
   "id": "700885b5",
   "metadata": {},
   "outputs": [
    {
     "name": "stdout",
     "output_type": "stream",
     "text": [
      "Help on function test8 in module __main__:\n",
      "\n",
      "test8(q)\n",
      "    Generates a triangle with given number of rows\n",
      "    Input- Accepts only integer\n",
      "    Output - Generates triangle\n",
      "\n"
     ]
    }
   ],
   "source": [
    "help(test8)"
   ]
  },
  {
   "cell_type": "raw",
   "id": "8ac56945",
   "metadata": {},
   "source": [
    "Help - An inbuilt function which helps you to give docstring of a function"
   ]
  },
  {
   "cell_type": "code",
   "execution_count": null,
   "id": "ff9ac3f4",
   "metadata": {},
   "outputs": [],
   "source": []
  }
 ],
 "metadata": {
  "kernelspec": {
   "display_name": "Python 3",
   "language": "python",
   "name": "python3"
  },
  "language_info": {
   "codemirror_mode": {
    "name": "ipython",
    "version": 3
   },
   "file_extension": ".py",
   "mimetype": "text/x-python",
   "name": "python",
   "nbconvert_exporter": "python",
   "pygments_lexer": "ipython3",
   "version": "3.8.8"
  }
 },
 "nbformat": 4,
 "nbformat_minor": 5
}
