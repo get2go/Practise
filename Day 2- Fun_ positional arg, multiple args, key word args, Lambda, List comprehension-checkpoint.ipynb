{
 "cells": [
  {
   "cell_type": "code",
   "execution_count": 1,
   "id": "e769e81e",
   "metadata": {},
   "outputs": [],
   "source": [
    "# Defining a fun where input can be given any no.of arguments\n",
    "def test(*args):\n",
    "    \"\"\"Input can take any no.of arguments\"\"\"\n",
    "    return args"
   ]
  },
  {
   "cell_type": "raw",
   "id": "a7228e51",
   "metadata": {},
   "source": [
    "* - It is a notation used for passing any no.of arguments given"
   ]
  },
  {
   "cell_type": "code",
   "execution_count": 2,
   "id": "3df2be1d",
   "metadata": {},
   "outputs": [
    {
     "data": {
      "text/plain": [
       "(1, 4, 7, 8j, [64, 'hdhb'], (457, 67, 'tuple'))"
      ]
     },
     "execution_count": 2,
     "metadata": {},
     "output_type": "execute_result"
    }
   ],
   "source": [
    "test(1,4,7,8j,[64,'hdhb'],(457,67,\"tuple\"))"
   ]
  },
  {
   "cell_type": "code",
   "execution_count": 3,
   "id": "538c4de7",
   "metadata": {},
   "outputs": [],
   "source": [
    "def test1(*ex):\n",
    "    return ex"
   ]
  },
  {
   "cell_type": "code",
   "execution_count": 4,
   "id": "0e6878bf",
   "metadata": {},
   "outputs": [
    {
     "data": {
      "text/plain": [
       "({2, 4, 5, 23, 53}, {'a': 'z', 'b': 'y', 'c': 'x'})"
      ]
     },
     "execution_count": 4,
     "metadata": {},
     "output_type": "execute_result"
    }
   ],
   "source": [
    "test1({23,2,53,4,5},{\"a\":\"z\",\"b\":\"y\",\"c\":\"x\"})"
   ]
  },
  {
   "cell_type": "code",
   "execution_count": 5,
   "id": "7fbd26a6",
   "metadata": {},
   "outputs": [],
   "source": [
    "# args isn't complusory word, whereas \"*\" is compulsory which denotes to pass n no.of data"
   ]
  },
  {
   "cell_type": "code",
   "execution_count": 6,
   "id": "2eb7b0c2",
   "metadata": {},
   "outputs": [],
   "source": [
    "# Defining a fun where input is given n no.of data along with specific fixed data/ variable\n",
    "def test2(*var, x):\n",
    "    return var,x"
   ]
  },
  {
   "cell_type": "code",
   "execution_count": 7,
   "id": "28090a44",
   "metadata": {},
   "outputs": [
    {
     "data": {
      "text/plain": [
       "((745, 'opps', 24), 4)"
      ]
     },
     "execution_count": 7,
     "metadata": {},
     "output_type": "execute_result"
    }
   ],
   "source": [
    "test2(745,'opps',24,x=4)"
   ]
  },
  {
   "cell_type": "code",
   "execution_count": 8,
   "id": "72ee1f56",
   "metadata": {},
   "outputs": [],
   "source": [
    "def test3(*stats,p,q,r):\n",
    "    \"\"\"Allows to give n no.of arguments, give additional some of the fixed inputs in integer only\"\"\"\n",
    "    if type(p)==int and type(q)==int:\n",
    "        return stats, p+q,r"
   ]
  },
  {
   "cell_type": "code",
   "execution_count": 9,
   "id": "764c4bdf",
   "metadata": {},
   "outputs": [
    {
     "data": {
      "text/plain": [
       "(('klp', 'hum', 'parrot', 12, 5j, 5, 'king'), 9, 6)"
      ]
     },
     "execution_count": 9,
     "metadata": {},
     "output_type": "execute_result"
    }
   ],
   "source": [
    "test3(\"klp\",\"hum\",\"parrot\",12,5j,5,\"king\",p=4,q=5,r=6)"
   ]
  },
  {
   "cell_type": "code",
   "execution_count": 10,
   "id": "54af8358",
   "metadata": {},
   "outputs": [],
   "source": [
    "def test4(a,*alpha):\n",
    "    return alpha,a"
   ]
  },
  {
   "cell_type": "code",
   "execution_count": 11,
   "id": "3cedd688",
   "metadata": {},
   "outputs": [
    {
     "ename": "TypeError",
     "evalue": "test4() got multiple values for argument 'a'",
     "output_type": "error",
     "traceback": [
      "\u001b[1;31m---------------------------------------------------------------------------\u001b[0m",
      "\u001b[1;31mTypeError\u001b[0m                                 Traceback (most recent call last)",
      "\u001b[1;32m<ipython-input-11-c634bda55505>\u001b[0m in \u001b[0;36m<module>\u001b[1;34m\u001b[0m\n\u001b[1;32m----> 1\u001b[1;33m \u001b[0mtest4\u001b[0m\u001b[1;33m(\u001b[0m\u001b[1;34m\"self\"\u001b[0m\u001b[1;33m,\u001b[0m\u001b[1;36m24\u001b[0m\u001b[1;33m,\u001b[0m\u001b[1;36m65\u001b[0m\u001b[1;33m,\u001b[0m\u001b[1;36m756\u001b[0m\u001b[1;33m,\u001b[0m\u001b[1;33m[\u001b[0m\u001b[1;36m34\u001b[0m\u001b[1;33m,\u001b[0m\u001b[1;36m56\u001b[0m\u001b[1;33m,\u001b[0m\u001b[1;36m67\u001b[0m\u001b[1;33m]\u001b[0m\u001b[1;33m,\u001b[0m\u001b[1;34m\"sir\"\u001b[0m\u001b[1;33m,\u001b[0m\u001b[0ma\u001b[0m\u001b[1;33m=\u001b[0m\u001b[1;34m\"mam\"\u001b[0m\u001b[1;33m)\u001b[0m\u001b[1;33m\u001b[0m\u001b[1;33m\u001b[0m\u001b[0m\n\u001b[0m",
      "\u001b[1;31mTypeError\u001b[0m: test4() got multiple values for argument 'a'"
     ]
    }
   ],
   "source": [
    "test4(\"self\",24,65,756,[34,56,67],\"sir\",a=\"mam\")"
   ]
  },
  {
   "cell_type": "code",
   "execution_count": 12,
   "id": "402b9229",
   "metadata": {},
   "outputs": [
    {
     "data": {
      "text/plain": [
       "((24, 65, 756, [34, 56, 67], 'sir'), 'self')"
      ]
     },
     "execution_count": 12,
     "metadata": {},
     "output_type": "execute_result"
    }
   ],
   "source": [
    "test4(\"self\",24,65,756,[34,56,67],\"sir\")"
   ]
  },
  {
   "cell_type": "raw",
   "id": "7709744c",
   "metadata": {},
   "source": [
    "Above line, it is passed even though \"a\" value isn't given.As by default whenever individual argument is given at start, it considers 1st value given as individual argument value even though its not mentioned.Hence, when \"a\" value is mentioned & given, it considers as multiple values are assigned to \"a\"."
   ]
  },
  {
   "cell_type": "code",
   "execution_count": 13,
   "id": "8b24354f",
   "metadata": {},
   "outputs": [],
   "source": [
    "def test5(a,*X,c,f):\n",
    "    return a,X,c,f"
   ]
  },
  {
   "cell_type": "code",
   "execution_count": 14,
   "id": "47231314",
   "metadata": {},
   "outputs": [
    {
     "ename": "TypeError",
     "evalue": "test5() missing 2 required keyword-only arguments: 'c' and 'f'",
     "output_type": "error",
     "traceback": [
      "\u001b[1;31m---------------------------------------------------------------------------\u001b[0m",
      "\u001b[1;31mTypeError\u001b[0m                                 Traceback (most recent call last)",
      "\u001b[1;32m<ipython-input-14-fbfa2520eb88>\u001b[0m in \u001b[0;36m<module>\u001b[1;34m\u001b[0m\n\u001b[1;32m----> 1\u001b[1;33m \u001b[0mtest5\u001b[0m\u001b[1;33m(\u001b[0m\u001b[1;36m2\u001b[0m\u001b[1;33m,\u001b[0m\u001b[1;36m3\u001b[0m\u001b[1;33m,\u001b[0m\u001b[1;36m89\u001b[0m\u001b[1;33m,\u001b[0m\u001b[1;36m3\u001b[0m\u001b[1;33m)\u001b[0m\u001b[1;33m\u001b[0m\u001b[1;33m\u001b[0m\u001b[0m\n\u001b[0m",
      "\u001b[1;31mTypeError\u001b[0m: test5() missing 2 required keyword-only arguments: 'c' and 'f'"
     ]
    }
   ],
   "source": [
    "test5(2,3,89,3)"
   ]
  },
  {
   "cell_type": "raw",
   "id": "e552927c",
   "metadata": {},
   "source": [
    "Above code error is facing bcoz as whatever variable given before \"*\" is considered as positional variable\\ argument (a).\n",
    "The variables given after \"*\" have to be defined as it cant distinguish between \"*\" value & other variable values."
   ]
  },
  {
   "cell_type": "code",
   "execution_count": 15,
   "id": "d788bd58",
   "metadata": {},
   "outputs": [
    {
     "data": {
      "text/plain": [
       "(8, ('kan', 'hjgdfj'), [34, 467, 'I'], 5j)"
      ]
     },
     "execution_count": 15,
     "metadata": {},
     "output_type": "execute_result"
    }
   ],
   "source": [
    "test5(8,\"kan\",\"hjgdfj\",c=[34,467,\"I\"],f=5j)"
   ]
  },
  {
   "cell_type": "code",
   "execution_count": 16,
   "id": "30747ce3",
   "metadata": {},
   "outputs": [],
   "source": [
    "# Arguments always going to return in tuple format"
   ]
  },
  {
   "cell_type": "code",
   "execution_count": 17,
   "id": "20d6cc8b",
   "metadata": {},
   "outputs": [],
   "source": [
    "# Problem-1: User can pass any type of data but can return only list form of data\n",
    "def test6(*args):\n",
    "    for i in args:\n",
    "        if type(i)==list:\n",
    "            return i\n",
    "                "
   ]
  },
  {
   "cell_type": "code",
   "execution_count": 18,
   "id": "415c7dc0",
   "metadata": {},
   "outputs": [
    {
     "data": {
      "text/plain": [
       "[45, 67, 'fd']"
      ]
     },
     "execution_count": 18,
     "metadata": {},
     "output_type": "execute_result"
    }
   ],
   "source": [
    "test6(\"pos\",34,44,67,50.2,[45,67,\"fd\"],(45,768),[35,56,66])"
   ]
  },
  {
   "cell_type": "code",
   "execution_count": 19,
   "id": "0ef7234b",
   "metadata": {},
   "outputs": [],
   "source": [
    "# Only 1st list value is returned even though 2 lists are passed, as in def we have given to return i value when it is list"
   ]
  },
  {
   "cell_type": "code",
   "execution_count": 20,
   "id": "acd48968",
   "metadata": {},
   "outputs": [],
   "source": [
    "def test7(*args):\n",
    "    l =[]\n",
    "    for i in args:\n",
    "        if type(i)==list:\n",
    "            l.append(i)           \n",
    "    return l"
   ]
  },
  {
   "cell_type": "code",
   "execution_count": 21,
   "id": "5c81cc1f",
   "metadata": {},
   "outputs": [
    {
     "data": {
      "text/plain": [
       "[[44, 67, 50.2], [45, 67, 'fd'], [35, 56, 66]]"
      ]
     },
     "execution_count": 21,
     "metadata": {},
     "output_type": "execute_result"
    }
   ],
   "source": [
    "test7(\"pos\",34,[44,67,50.2],[45,67,\"fd\"],(45,768),[35,56,66])"
   ]
  },
  {
   "cell_type": "code",
   "execution_count": 22,
   "id": "3dbe7b8e",
   "metadata": {},
   "outputs": [],
   "source": [
    "# Problem-2: Def a fun where user can pass n no.of data only in key:value pair\n",
    "def test8(**kwargs):\n",
    "    return kwargs"
   ]
  },
  {
   "cell_type": "code",
   "execution_count": 23,
   "id": "ab1d2733",
   "metadata": {},
   "outputs": [],
   "source": [
    "# ** - Denotes data is passed in key:value pair\n",
    "# * - Represents data passed in single value"
   ]
  },
  {
   "cell_type": "code",
   "execution_count": 24,
   "id": "4841fb21",
   "metadata": {},
   "outputs": [
    {
     "ename": "TypeError",
     "evalue": "test8() takes 0 positional arguments but 2 were given",
     "output_type": "error",
     "traceback": [
      "\u001b[1;31m---------------------------------------------------------------------------\u001b[0m",
      "\u001b[1;31mTypeError\u001b[0m                                 Traceback (most recent call last)",
      "\u001b[1;32m<ipython-input-24-b244434ae5ad>\u001b[0m in \u001b[0;36m<module>\u001b[1;34m\u001b[0m\n\u001b[1;32m----> 1\u001b[1;33m \u001b[0mtest8\u001b[0m\u001b[1;33m(\u001b[0m\u001b[1;36m324\u001b[0m\u001b[1;33m,\u001b[0m\u001b[1;36m45\u001b[0m\u001b[1;33m)\u001b[0m\u001b[1;33m\u001b[0m\u001b[1;33m\u001b[0m\u001b[0m\n\u001b[0m",
      "\u001b[1;31mTypeError\u001b[0m: test8() takes 0 positional arguments but 2 were given"
     ]
    }
   ],
   "source": [
    "test8(324,45)"
   ]
  },
  {
   "cell_type": "code",
   "execution_count": 25,
   "id": "dd8877e8",
   "metadata": {},
   "outputs": [],
   "source": [
    "# As it cant decide what is positional argument(key) value, so error is shown"
   ]
  },
  {
   "cell_type": "code",
   "execution_count": 26,
   "id": "5519f6b4",
   "metadata": {},
   "outputs": [
    {
     "data": {
      "text/plain": [
       "{'c': 324, 'b': 53}"
      ]
     },
     "execution_count": 26,
     "metadata": {},
     "output_type": "execute_result"
    }
   ],
   "source": [
    "test8(c=324,b=53)"
   ]
  },
  {
   "cell_type": "code",
   "execution_count": 27,
   "id": "df8f7b0e",
   "metadata": {},
   "outputs": [],
   "source": [
    "# Here, c & b are treated as Keys and given value as Values.Hence output is returned as dictionary\n",
    "# For single argument(*), output is given in tuple "
   ]
  },
  {
   "cell_type": "code",
   "execution_count": 28,
   "id": "f96bb2b0",
   "metadata": {},
   "outputs": [
    {
     "ename": "SyntaxError",
     "evalue": "expression cannot contain assignment, perhaps you meant \"==\"? (<ipython-input-28-cb1b41ef8652>, line 1)",
     "output_type": "error",
     "traceback": [
      "\u001b[1;36m  File \u001b[1;32m\"<ipython-input-28-cb1b41ef8652>\"\u001b[1;36m, line \u001b[1;32m1\u001b[0m\n\u001b[1;33m    test8(1=\"hansl\")\u001b[0m\n\u001b[1;37m          ^\u001b[0m\n\u001b[1;31mSyntaxError\u001b[0m\u001b[1;31m:\u001b[0m expression cannot contain assignment, perhaps you meant \"==\"?\n"
     ]
    }
   ],
   "source": [
    "test8(1=\"hansl\")"
   ]
  },
  {
   "cell_type": "code",
   "execution_count": 29,
   "id": "1c266aab",
   "metadata": {},
   "outputs": [],
   "source": [
    "# so only alphabets/ words can be used as key but not numbers"
   ]
  },
  {
   "cell_type": "code",
   "execution_count": 30,
   "id": "0190addd",
   "metadata": {},
   "outputs": [
    {
     "data": {
      "text/plain": [
       "{'b': 'fbjsbh'}"
      ]
     },
     "execution_count": 30,
     "metadata": {},
     "output_type": "execute_result"
    }
   ],
   "source": [
    "test8(b=\"fbjsbh\")"
   ]
  },
  {
   "cell_type": "code",
   "execution_count": 31,
   "id": "67812318",
   "metadata": {},
   "outputs": [
    {
     "ename": "SyntaxError",
     "evalue": "expression cannot contain assignment, perhaps you meant \"==\"? (<ipython-input-31-1b69227f2509>, line 1)",
     "output_type": "error",
     "traceback": [
      "\u001b[1;36m  File \u001b[1;32m\"<ipython-input-31-1b69227f2509>\"\u001b[1;36m, line \u001b[1;32m1\u001b[0m\n\u001b[1;33m    test8(\"a\"=\"df\",\"fe\"=324)\u001b[0m\n\u001b[1;37m          ^\u001b[0m\n\u001b[1;31mSyntaxError\u001b[0m\u001b[1;31m:\u001b[0m expression cannot contain assignment, perhaps you meant \"==\"?\n"
     ]
    }
   ],
   "source": [
    "test8(\"a\"=\"df\",\"fe\"=324)"
   ]
  },
  {
   "cell_type": "raw",
   "id": "12310dab",
   "metadata": {},
   "source": [
    "Cant be in string format as it considers variable : value, if variable is given in string format,it treats both of them as variable: variable which isn't accepted.Hence variable should be written in word/alphabets only but not in \"\" or ''"
   ]
  },
  {
   "cell_type": "code",
   "execution_count": 32,
   "id": "6059dd0e",
   "metadata": {},
   "outputs": [
    {
     "data": {
      "text/plain": [
       "{'p': 22132, 'q': 'fldn', 'r': 234.33}"
      ]
     },
     "execution_count": 32,
     "metadata": {},
     "output_type": "execute_result"
    }
   ],
   "source": [
    "test8(p=22132,q=\"fldn\",r=234.33)"
   ]
  },
  {
   "cell_type": "code",
   "execution_count": 33,
   "id": "4667e786",
   "metadata": {},
   "outputs": [],
   "source": [
    "def test9(p,**kwargs):\n",
    "    return kwargs,p"
   ]
  },
  {
   "cell_type": "code",
   "execution_count": 34,
   "id": "2bfbad9b",
   "metadata": {},
   "outputs": [
    {
     "data": {
      "text/plain": [
       "({'a': 'parrot', 'b': 45, 'o': 'devdas'}, 76)"
      ]
     },
     "execution_count": 34,
     "metadata": {},
     "output_type": "execute_result"
    }
   ],
   "source": [
    "test9(76,a=\"parrot\",b=45,o=\"devdas\")"
   ]
  },
  {
   "cell_type": "code",
   "execution_count": 35,
   "id": "b1d8259d",
   "metadata": {},
   "outputs": [
    {
     "ename": "SyntaxError",
     "evalue": "invalid syntax (<ipython-input-35-3bca5791bd9d>, line 1)",
     "output_type": "error",
     "traceback": [
      "\u001b[1;36m  File \u001b[1;32m\"<ipython-input-35-3bca5791bd9d>\"\u001b[1;36m, line \u001b[1;32m1\u001b[0m\n\u001b[1;33m    def test10(g,**kwargs,*args):\u001b[0m\n\u001b[1;37m                          ^\u001b[0m\n\u001b[1;31mSyntaxError\u001b[0m\u001b[1;31m:\u001b[0m invalid syntax\n"
     ]
    }
   ],
   "source": [
    "def test10(g,**kwargs,*args):\n",
    "    return **kwargs,g,args"
   ]
  },
  {
   "cell_type": "code",
   "execution_count": 36,
   "id": "8be4c28a",
   "metadata": {},
   "outputs": [],
   "source": [
    "#Note: Shows error, as you cant use \"**\" & \"*\" at a time in a function.\n",
    "# But it works fine when using it in a sequence i.e,positional arguement, \"*\" & \"**\" or in \"*\",positional arg,\"**\""
   ]
  },
  {
   "cell_type": "code",
   "execution_count": 37,
   "id": "638c3b61",
   "metadata": {},
   "outputs": [],
   "source": [
    "def test11(a,*args,**kwargs):\n",
    "    return a,args,kwargs"
   ]
  },
  {
   "cell_type": "code",
   "execution_count": 38,
   "id": "14829dea",
   "metadata": {},
   "outputs": [
    {
     "data": {
      "text/plain": [
       "('position',\n",
       " ('bhfdbh', 'fbdjb', 34, 565),\n",
       " {'b': 'bdb', 'v': 23, 'k': 534, 'bn': 'bdjfb'})"
      ]
     },
     "execution_count": 38,
     "metadata": {},
     "output_type": "execute_result"
    }
   ],
   "source": [
    "test11(\"position\",\"bhfdbh\",'fbdjb',34,565,b=\"bdb\",v=23,k=534,bn=\"bdjfb\")"
   ]
  },
  {
   "cell_type": "code",
   "execution_count": 39,
   "id": "f70fd610",
   "metadata": {},
   "outputs": [
    {
     "ename": "SyntaxError",
     "evalue": "invalid syntax (<ipython-input-39-9abf63708902>, line 1)",
     "output_type": "error",
     "traceback": [
      "\u001b[1;36m  File \u001b[1;32m\"<ipython-input-39-9abf63708902>\"\u001b[1;36m, line \u001b[1;32m1\u001b[0m\n\u001b[1;33m    def test12(*args,**kwargs,j):\u001b[0m\n\u001b[1;37m                              ^\u001b[0m\n\u001b[1;31mSyntaxError\u001b[0m\u001b[1;31m:\u001b[0m invalid syntax\n"
     ]
    }
   ],
   "source": [
    "def test12(*args,**kwargs,j):\n",
    "    return args,kwargs,j"
   ]
  },
  {
   "cell_type": "code",
   "execution_count": 40,
   "id": "7b669cbd",
   "metadata": {},
   "outputs": [],
   "source": [
    "# Refer above note"
   ]
  },
  {
   "cell_type": "code",
   "execution_count": 41,
   "id": "cc2cd1e6",
   "metadata": {},
   "outputs": [],
   "source": [
    "def test12(*args,**kwargs):\n",
    "    return args,kwargs"
   ]
  },
  {
   "cell_type": "code",
   "execution_count": 42,
   "id": "3ac4484c",
   "metadata": {},
   "outputs": [
    {
     "data": {
      "text/plain": [
       "(('djb', 44, 56, 78, 42), {'l': 'pns', 'k': 'jnkd', 'i': 87})"
      ]
     },
     "execution_count": 42,
     "metadata": {},
     "output_type": "execute_result"
    }
   ],
   "source": [
    "test12(\"djb\",44,56,78,42,l=\"pns\",k=\"jnkd\",i=87)"
   ]
  },
  {
   "cell_type": "code",
   "execution_count": 43,
   "id": "2e9c378e",
   "metadata": {},
   "outputs": [],
   "source": [
    "def test13(*args,b,**kwargs):\n",
    "    return args,b,kwargs"
   ]
  },
  {
   "cell_type": "code",
   "execution_count": 44,
   "id": "b9866be6",
   "metadata": {},
   "outputs": [
    {
     "data": {
      "text/plain": [
       "(('hjadj', 77, 8767, 'vdhv'), 656, {'c': 'ijh', 'h': 87})"
      ]
     },
     "execution_count": 44,
     "metadata": {},
     "output_type": "execute_result"
    }
   ],
   "source": [
    "test13(\"hjadj\",77,8767,\"vdhv\",b=656,c=\"ijh\",h=87)"
   ]
  },
  {
   "cell_type": "code",
   "execution_count": 45,
   "id": "e958edde",
   "metadata": {},
   "outputs": [],
   "source": [
    "# Lambda Function - Function which is created without a name is called Lambda function\n",
    "P= lambda a,b:a+b"
   ]
  },
  {
   "cell_type": "code",
   "execution_count": 46,
   "id": "dc29ae7f",
   "metadata": {},
   "outputs": [
    {
     "data": {
      "text/plain": [
       "797"
      ]
     },
     "execution_count": 46,
     "metadata": {},
     "output_type": "execute_result"
    }
   ],
   "source": [
    "P(712,85)"
   ]
  },
  {
   "cell_type": "code",
   "execution_count": 47,
   "id": "75eaea31",
   "metadata": {},
   "outputs": [],
   "source": [
    "Q =lambda a,*args:(args,a)"
   ]
  },
  {
   "cell_type": "code",
   "execution_count": 48,
   "id": "dfe904a9",
   "metadata": {},
   "outputs": [
    {
     "data": {
      "text/plain": [
       "(('skjfjk', 874, 'uifb', 'bgdjsk'), 34)"
      ]
     },
     "execution_count": 48,
     "metadata": {},
     "output_type": "execute_result"
    }
   ],
   "source": [
    "Q(34,\"skjfjk\",874,\"uifb\",\"bgdjsk\")"
   ]
  },
  {
   "cell_type": "code",
   "execution_count": 49,
   "id": "1e810923",
   "metadata": {},
   "outputs": [],
   "source": [
    "R = lambda s,t:(s**2,t*2,s+t)"
   ]
  },
  {
   "cell_type": "code",
   "execution_count": 50,
   "id": "799887c3",
   "metadata": {},
   "outputs": [
    {
     "data": {
      "text/plain": [
       "(49, 18, 16)"
      ]
     },
     "execution_count": 50,
     "metadata": {},
     "output_type": "execute_result"
    }
   ],
   "source": [
    "R(7,9)"
   ]
  },
  {
   "cell_type": "code",
   "execution_count": 51,
   "id": "ae1a0a5b",
   "metadata": {},
   "outputs": [],
   "source": [
    "# Lambda fun_for loop\n",
    "K = lambda h:[i for i in h]"
   ]
  },
  {
   "cell_type": "code",
   "execution_count": 52,
   "id": "2bff0098",
   "metadata": {},
   "outputs": [
    {
     "data": {
      "text/plain": [
       "['bfhe', 67, 87, 34, 'hdf']"
      ]
     },
     "execution_count": 52,
     "metadata": {},
     "output_type": "execute_result"
    }
   ],
   "source": [
    "K([\"bfhe\",67,87,34,\"hdf\"])"
   ]
  },
  {
   "cell_type": "code",
   "execution_count": 53,
   "id": "e3a6ef50",
   "metadata": {},
   "outputs": [
    {
     "data": {
      "text/plain": [
       "['sbf', 'bjd', 7, 45, 563, 56]"
      ]
     },
     "execution_count": 53,
     "metadata": {},
     "output_type": "execute_result"
    }
   ],
   "source": [
    "K(('sbf','bjd',7,45,563,56))"
   ]
  },
  {
   "cell_type": "code",
   "execution_count": 56,
   "id": "7901229a",
   "metadata": {},
   "outputs": [],
   "source": [
    "l =lambda *args,**kwargs: (args,kwargs)"
   ]
  },
  {
   "cell_type": "code",
   "execution_count": 57,
   "id": "d4823bf6",
   "metadata": {},
   "outputs": [
    {
     "data": {
      "text/plain": [
       "(('bsdfhb', 4345, 43, 'ab'), {'k': 'njkdb', 'w': 'words'})"
      ]
     },
     "execution_count": 57,
     "metadata": {},
     "output_type": "execute_result"
    }
   ],
   "source": [
    "l(\"bsdfhb\",4345,43,\"ab\",k=\"njkdb\",w='words')"
   ]
  },
  {
   "cell_type": "code",
   "execution_count": 58,
   "id": "f920efc3",
   "metadata": {},
   "outputs": [],
   "source": [
    "#\n",
    "a = 10\n",
    "def test14(c,d):\n",
    "    return c*d"
   ]
  },
  {
   "cell_type": "code",
   "execution_count": 60,
   "id": "95a25c5b",
   "metadata": {},
   "outputs": [
    {
     "data": {
      "text/plain": [
       "70"
      ]
     },
     "execution_count": 60,
     "metadata": {},
     "output_type": "execute_result"
    }
   ],
   "source": [
    "test14(a,7)"
   ]
  },
  {
   "cell_type": "raw",
   "id": "b2a4f354",
   "metadata": {},
   "source": [
    "Though a isn't used in the function, c takes over its value while executing the fun"
   ]
  },
  {
   "cell_type": "code",
   "execution_count": 64,
   "id": "c32e29ce",
   "metadata": {},
   "outputs": [],
   "source": [
    "w= 11\n",
    "def test15(w,x):\n",
    "    w=8\n",
    "    return w**2+x"
   ]
  },
  {
   "cell_type": "code",
   "execution_count": 66,
   "id": "ebf82d68",
   "metadata": {},
   "outputs": [
    {
     "data": {
      "text/plain": [
       "68"
      ]
     },
     "execution_count": 66,
     "metadata": {},
     "output_type": "execute_result"
    }
   ],
   "source": [
    "test15(s,4)"
   ]
  },
  {
   "cell_type": "code",
   "execution_count": 67,
   "id": "053081a3",
   "metadata": {},
   "outputs": [
    {
     "data": {
      "text/plain": [
       "11"
      ]
     },
     "execution_count": 67,
     "metadata": {},
     "output_type": "execute_result"
    }
   ],
   "source": [
    "w"
   ]
  },
  {
   "cell_type": "code",
   "execution_count": 68,
   "id": "7445e5ed",
   "metadata": {},
   "outputs": [],
   "source": [
    "# Though globally(i.e,all over the notebook) w=11,it takes w=8 as it is defined locally(inside the def).\n",
    "# Hence it takes local value and excutes it irrespective of the value given"
   ]
  },
  {
   "cell_type": "code",
   "execution_count": 69,
   "id": "ccba7f6c",
   "metadata": {},
   "outputs": [
    {
     "data": {
      "text/plain": [
       "69"
      ]
     },
     "execution_count": 69,
     "metadata": {},
     "output_type": "execute_result"
    }
   ],
   "source": [
    "test15(9,5)"
   ]
  },
  {
   "cell_type": "code",
   "execution_count": 70,
   "id": "7095bc71",
   "metadata": {},
   "outputs": [],
   "source": [
    "w=[7,35,36,56,85,'bfd']\n",
    "w1=[]\n",
    "for i in w:\n",
    "    w1.append(i*2)"
   ]
  },
  {
   "cell_type": "code",
   "execution_count": 71,
   "id": "9101c49f",
   "metadata": {},
   "outputs": [
    {
     "data": {
      "text/plain": [
       "[14, 70, 72, 112, 170, 'bfdbfd']"
      ]
     },
     "execution_count": 71,
     "metadata": {},
     "output_type": "execute_result"
    }
   ],
   "source": [
    "w1"
   ]
  },
  {
   "cell_type": "code",
   "execution_count": 73,
   "id": "45201b7e",
   "metadata": {},
   "outputs": [],
   "source": [
    "# Using function\n",
    "def test16(u):\n",
    "    u2=[]\n",
    "    for i in u:\n",
    "        u2.append(i*2)\n",
    "    return u2"
   ]
  },
  {
   "cell_type": "code",
   "execution_count": 74,
   "id": "80e12747",
   "metadata": {},
   "outputs": [
    {
     "data": {
      "text/plain": [
       "[14, 70, 72, 112, 170, 'bfdbfd']"
      ]
     },
     "execution_count": 74,
     "metadata": {},
     "output_type": "execute_result"
    }
   ],
   "source": [
    "test16(w)"
   ]
  },
  {
   "cell_type": "code",
   "execution_count": 75,
   "id": "9f947cfa",
   "metadata": {},
   "outputs": [],
   "source": [
    "# Using lambda\n",
    "x = lambda u:[i*2 for i in u]"
   ]
  },
  {
   "cell_type": "code",
   "execution_count": 76,
   "id": "1b16a9d6",
   "metadata": {},
   "outputs": [
    {
     "data": {
      "text/plain": [
       "[14, 70, 72, 112, 170, 'bfdbfd']"
      ]
     },
     "execution_count": 76,
     "metadata": {},
     "output_type": "execute_result"
    }
   ],
   "source": [
    "x(w)"
   ]
  },
  {
   "cell_type": "markdown",
   "id": "8cfd4f18",
   "metadata": {},
   "source": [
    "List Comprehension"
   ]
  },
  {
   "cell_type": "code",
   "execution_count": 78,
   "id": "3dc052a3",
   "metadata": {},
   "outputs": [
    {
     "data": {
      "text/plain": [
       "[14, 70, 72, 112, 170, 'bfdbfd']"
      ]
     },
     "execution_count": 78,
     "metadata": {},
     "output_type": "execute_result"
    }
   ],
   "source": [
    "[i*2 for i in w]"
   ]
  },
  {
   "cell_type": "code",
   "execution_count": 80,
   "id": "0efa72f4",
   "metadata": {},
   "outputs": [
    {
     "data": {
      "text/plain": [
       "[(15, 39), (37, 105), (48, 138), (76, 222), (93, 273), (5, 9)]"
      ]
     },
     "execution_count": 80,
     "metadata": {},
     "output_type": "execute_result"
    }
   ],
   "source": [
    "p=[13,35,46,74,91,3]\n",
    "[(i+2,i*3) for i in p]"
   ]
  },
  {
   "cell_type": "code",
   "execution_count": 81,
   "id": "c93f3a11",
   "metadata": {},
   "outputs": [],
   "source": [
    "# left - Result is always written on left side\n",
    "# Right - for loop & condition is written on right side"
   ]
  },
  {
   "cell_type": "code",
   "execution_count": 82,
   "id": "2b909fbd",
   "metadata": {},
   "outputs": [
    {
     "data": {
      "text/plain": [
       "[(5, 1), (7, 9), (8, 16), (9, 25), (11, 49)]"
      ]
     },
     "execution_count": 82,
     "metadata": {},
     "output_type": "execute_result"
    }
   ],
   "source": [
    "q = [1,3,4,5,67,7,45,67]\n",
    "[(i+4,i**2) for i in q if i<15]"
   ]
  },
  {
   "cell_type": "code",
   "execution_count": 83,
   "id": "30e9a454",
   "metadata": {},
   "outputs": [
    {
     "data": {
      "text/plain": [
       "{0: 0, 1: 1, 2: 4, 3: 9, 4: 16, 5: 25, 6: 36, 7: 49, 8: 64, 9: 81}"
      ]
     },
     "execution_count": 83,
     "metadata": {},
     "output_type": "execute_result"
    }
   ],
   "source": [
    "{i:i**2 for i in range(10)}"
   ]
  },
  {
   "cell_type": "code",
   "execution_count": 84,
   "id": "c14f1eda",
   "metadata": {},
   "outputs": [],
   "source": [
    "d1 ={}\n",
    "for i in range(10):\n",
    "    d1[i]=i**2"
   ]
  },
  {
   "cell_type": "code",
   "execution_count": 85,
   "id": "cc9628c9",
   "metadata": {},
   "outputs": [
    {
     "data": {
      "text/plain": [
       "{0: 0, 1: 1, 2: 4, 3: 9, 4: 16, 5: 25, 6: 36, 7: 49, 8: 64, 9: 81}"
      ]
     },
     "execution_count": 85,
     "metadata": {},
     "output_type": "execute_result"
    }
   ],
   "source": [
    "d1"
   ]
  },
  {
   "cell_type": "code",
   "execution_count": null,
   "id": "6b66139f",
   "metadata": {},
   "outputs": [],
   "source": []
  }
 ],
 "metadata": {
  "kernelspec": {
   "display_name": "Python 3",
   "language": "python",
   "name": "python3"
  },
  "language_info": {
   "codemirror_mode": {
    "name": "ipython",
    "version": 3
   },
   "file_extension": ".py",
   "mimetype": "text/x-python",
   "name": "python",
   "nbconvert_exporter": "python",
   "pygments_lexer": "ipython3",
   "version": "3.8.8"
  }
 },
 "nbformat": 4,
 "nbformat_minor": 5
}
