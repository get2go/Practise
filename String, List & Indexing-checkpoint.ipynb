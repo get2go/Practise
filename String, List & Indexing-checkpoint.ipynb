{
 "cells": [
  {
   "cell_type": "markdown",
   "id": "613bac89",
   "metadata": {},
   "source": [
    "Accessing of string elements"
   ]
  },
  {
   "cell_type": "code",
   "execution_count": 1,
   "id": "ae87dca2",
   "metadata": {},
   "outputs": [],
   "source": [
    "A = \"Rose is a very beautiful flower\""
   ]
  },
  {
   "cell_type": "code",
   "execution_count": 2,
   "id": "bc435894",
   "metadata": {},
   "outputs": [
    {
     "data": {
      "text/plain": [
       "'R'"
      ]
     },
     "execution_count": 2,
     "metadata": {},
     "output_type": "execute_result"
    }
   ],
   "source": [
    "# Each and every character of string is given an index. It always starts from 0\n",
    "A[0]"
   ]
  },
  {
   "cell_type": "code",
   "execution_count": 3,
   "id": "61fff0fc",
   "metadata": {},
   "outputs": [
    {
     "data": {
      "text/plain": [
       "' '"
      ]
     },
     "execution_count": 3,
     "metadata": {},
     "output_type": "execute_result"
    }
   ],
   "source": [
    "A[4]"
   ]
  },
  {
   "cell_type": "code",
   "execution_count": 4,
   "id": "73e1ab99",
   "metadata": {},
   "outputs": [],
   "source": [
    "# so even space is also considered as a character and given index"
   ]
  },
  {
   "cell_type": "code",
   "execution_count": 5,
   "id": "06bd7f66",
   "metadata": {},
   "outputs": [
    {
     "data": {
      "text/plain": [
       "'r'"
      ]
     },
     "execution_count": 5,
     "metadata": {},
     "output_type": "execute_result"
    }
   ],
   "source": [
    "# Backward indexing (i.e accessing of data from backward direction)\n",
    "A[-1]"
   ]
  },
  {
   "cell_type": "code",
   "execution_count": 6,
   "id": "362a12cd",
   "metadata": {},
   "outputs": [],
   "source": [
    "# Backward indexing always start with -1 whereas Forward with 0"
   ]
  },
  {
   "cell_type": "code",
   "execution_count": 7,
   "id": "5cf96337",
   "metadata": {},
   "outputs": [
    {
     "data": {
      "text/plain": [
       "'Rose i'"
      ]
     },
     "execution_count": 7,
     "metadata": {},
     "output_type": "execute_result"
    }
   ],
   "source": [
    "# Range of Characters\n",
    "A[0:6]"
   ]
  },
  {
   "cell_type": "code",
   "execution_count": 8,
   "id": "305654e5",
   "metadata": {},
   "outputs": [],
   "source": [
    "# It means that give me data from starting point excluding end location/upper bound i.e, 6th location of data"
   ]
  },
  {
   "cell_type": "code",
   "execution_count": 9,
   "id": "9d10b39c",
   "metadata": {},
   "outputs": [
    {
     "ename": "IndexError",
     "evalue": "string index out of range",
     "output_type": "error",
     "traceback": [
      "\u001b[1;31m---------------------------------------------------------------------------\u001b[0m",
      "\u001b[1;31mIndexError\u001b[0m                                Traceback (most recent call last)",
      "\u001b[1;32m<ipython-input-9-0cd94f731fef>\u001b[0m in \u001b[0;36m<module>\u001b[1;34m\u001b[0m\n\u001b[1;32m----> 1\u001b[1;33m \u001b[0mA\u001b[0m\u001b[1;33m[\u001b[0m\u001b[1;36m50\u001b[0m\u001b[1;33m]\u001b[0m\u001b[1;33m\u001b[0m\u001b[1;33m\u001b[0m\u001b[0m\n\u001b[0m",
      "\u001b[1;31mIndexError\u001b[0m: string index out of range"
     ]
    }
   ],
   "source": [
    "A[50]"
   ]
  },
  {
   "cell_type": "markdown",
   "id": "dbed45c3",
   "metadata": {},
   "source": [
    "STRING SLICING OPERATIONS"
   ]
  },
  {
   "cell_type": "code",
   "execution_count": 10,
   "id": "69c02136",
   "metadata": {},
   "outputs": [
    {
     "data": {
      "text/plain": [
       "'ose is a very beautiful flower'"
      ]
     },
     "execution_count": 10,
     "metadata": {},
     "output_type": "execute_result"
    }
   ],
   "source": [
    "A[1:50]"
   ]
  },
  {
   "cell_type": "code",
   "execution_count": 11,
   "id": "0fcac60e",
   "metadata": {},
   "outputs": [
    {
     "data": {
      "text/plain": [
       "''"
      ]
     },
     "execution_count": 11,
     "metadata": {},
     "output_type": "execute_result"
    }
   ],
   "source": [
    "A[-1:-5]"
   ]
  },
  {
   "cell_type": "code",
   "execution_count": 12,
   "id": "379b8b6d",
   "metadata": {},
   "outputs": [],
   "source": [
    "# Its giving empty as step size is +ve where as lower & upper bound are -ve resulting conflict.Hence it gives null"
   ]
  },
  {
   "cell_type": "code",
   "execution_count": 13,
   "id": "8f4b470a",
   "metadata": {},
   "outputs": [
    {
     "data": {
      "text/plain": [
       "'rewo'"
      ]
     },
     "execution_count": 13,
     "metadata": {},
     "output_type": "execute_result"
    }
   ],
   "source": [
    "A[-1:-5:-1]"
   ]
  },
  {
   "cell_type": "code",
   "execution_count": 14,
   "id": "4d22fc92",
   "metadata": {},
   "outputs": [],
   "source": [
    "# As step size & lower and upper bounds are in same direction, hence result shown"
   ]
  },
  {
   "cell_type": "code",
   "execution_count": 15,
   "id": "7448233b",
   "metadata": {},
   "outputs": [
    {
     "data": {
      "text/plain": [
       "'Rose is '"
      ]
     },
     "execution_count": 15,
     "metadata": {},
     "output_type": "execute_result"
    }
   ],
   "source": [
    "A[:8]"
   ]
  },
  {
   "cell_type": "code",
   "execution_count": 16,
   "id": "e329f1ad",
   "metadata": {},
   "outputs": [],
   "source": [
    "# As lower bound isn't given, system takes starting point as 0 and step size as 1"
   ]
  },
  {
   "cell_type": "code",
   "execution_count": 17,
   "id": "5a2bf079",
   "metadata": {},
   "outputs": [
    {
     "data": {
      "text/plain": [
       "'er'"
      ]
     },
     "execution_count": 17,
     "metadata": {},
     "output_type": "execute_result"
    }
   ],
   "source": [
    "A[-2:]"
   ]
  },
  {
   "cell_type": "code",
   "execution_count": 18,
   "id": "c2871474",
   "metadata": {},
   "outputs": [],
   "source": [
    "# It gives last 2 characters of string as upper bound isn't given, then system takes end point as end of the string with a\n",
    "# +ve jump size.Hence result given is last 2 characters only"
   ]
  },
  {
   "cell_type": "code",
   "execution_count": 19,
   "id": "30019c4f",
   "metadata": {},
   "outputs": [
    {
     "data": {
      "text/plain": [
       "'appleappleappleapple'"
      ]
     },
     "execution_count": 19,
     "metadata": {},
     "output_type": "execute_result"
    }
   ],
   "source": [
    "\"apple\"*4"
   ]
  },
  {
   "cell_type": "code",
   "execution_count": 20,
   "id": "696a4bd4",
   "metadata": {},
   "outputs": [
    {
     "data": {
      "text/plain": [
       "31"
      ]
     },
     "execution_count": 20,
     "metadata": {},
     "output_type": "execute_result"
    }
   ],
   "source": [
    "# len()- Gives complete length of the string including space\n",
    "len(A)"
   ]
  },
  {
   "cell_type": "code",
   "execution_count": 21,
   "id": "1fbb444c",
   "metadata": {},
   "outputs": [
    {
     "data": {
      "text/plain": [
       "18"
      ]
     },
     "execution_count": 21,
     "metadata": {},
     "output_type": "execute_result"
    }
   ],
   "source": [
    "A.find(\"u\")"
   ]
  },
  {
   "cell_type": "code",
   "execution_count": 22,
   "id": "1c66bc07",
   "metadata": {},
   "outputs": [],
   "source": [
    "#find fun- Return the 1st occurance in A where substring sub is found,such that sub is contained within A[start:end]."
   ]
  },
  {
   "cell_type": "code",
   "execution_count": 23,
   "id": "291754eb",
   "metadata": {},
   "outputs": [
    {
     "data": {
      "text/plain": [
       "27"
      ]
     },
     "execution_count": 23,
     "metadata": {},
     "output_type": "execute_result"
    }
   ],
   "source": [
    "A.find(\"ow\")"
   ]
  },
  {
   "cell_type": "code",
   "execution_count": 24,
   "id": "282815b2",
   "metadata": {},
   "outputs": [
    {
     "data": {
      "text/plain": [
       "'Rose is a very beautiful flower'"
      ]
     },
     "execution_count": 24,
     "metadata": {},
     "output_type": "execute_result"
    }
   ],
   "source": [
    "A"
   ]
  },
  {
   "cell_type": "code",
   "execution_count": 25,
   "id": "26c7cbae",
   "metadata": {},
   "outputs": [
    {
     "data": {
      "text/plain": [
       "4"
      ]
     },
     "execution_count": 25,
     "metadata": {},
     "output_type": "execute_result"
    }
   ],
   "source": [
    "A.count(\"e\")"
   ]
  },
  {
   "cell_type": "code",
   "execution_count": 26,
   "id": "fc1a0f4f",
   "metadata": {},
   "outputs": [],
   "source": [
    "# Count- Gives you no.of non-overlapping occurrences of substring sub in string A[start:end]"
   ]
  },
  {
   "cell_type": "code",
   "execution_count": 27,
   "id": "14dd4a5e",
   "metadata": {},
   "outputs": [
    {
     "data": {
      "text/plain": [
       "['Rose', 'is', 'a', 'very', 'beautiful', 'flower']"
      ]
     },
     "execution_count": 27,
     "metadata": {},
     "output_type": "execute_result"
    }
   ],
   "source": [
    "# Split - Splits entire string\n",
    "A.split()"
   ]
  },
  {
   "cell_type": "code",
   "execution_count": 28,
   "id": "b69a81b6",
   "metadata": {},
   "outputs": [],
   "source": [
    "# Result is given in new data type i.e, List"
   ]
  },
  {
   "cell_type": "code",
   "execution_count": 29,
   "id": "ff1a85ed",
   "metadata": {},
   "outputs": [],
   "source": [
    "Sa = \"SHE SELLS SEASHELLS ON SEASHORE\""
   ]
  },
  {
   "cell_type": "code",
   "execution_count": 30,
   "id": "a730e4fb",
   "metadata": {},
   "outputs": [],
   "source": [
    "#split - splits string using sep as the delimiter string. default sep is \" \"(space)."
   ]
  },
  {
   "cell_type": "code",
   "execution_count": 31,
   "id": "925e0ac2",
   "metadata": {},
   "outputs": [],
   "source": [
    "S1 = Sa.split()"
   ]
  },
  {
   "cell_type": "code",
   "execution_count": 32,
   "id": "a1605beb",
   "metadata": {},
   "outputs": [
    {
     "data": {
      "text/plain": [
       "['SHE', 'SELLS', 'SEASHELLS', 'ON', 'SEASHORE']"
      ]
     },
     "execution_count": 32,
     "metadata": {},
     "output_type": "execute_result"
    }
   ],
   "source": [
    "S1"
   ]
  },
  {
   "cell_type": "markdown",
   "id": "27c551a9",
   "metadata": {},
   "source": [
    "Accessing of elements in List"
   ]
  },
  {
   "cell_type": "code",
   "execution_count": 33,
   "id": "fd98926e",
   "metadata": {},
   "outputs": [
    {
     "data": {
      "text/plain": [
       "'SELLS'"
      ]
     },
     "execution_count": 33,
     "metadata": {},
     "output_type": "execute_result"
    }
   ],
   "source": [
    "S1[1]"
   ]
  },
  {
   "cell_type": "code",
   "execution_count": 34,
   "id": "60563acf",
   "metadata": {},
   "outputs": [],
   "source": [
    "#Indexing of elements in List is same as String, i.e it starts from 0"
   ]
  },
  {
   "cell_type": "code",
   "execution_count": 35,
   "id": "51e8bb22",
   "metadata": {},
   "outputs": [
    {
     "data": {
      "text/plain": [
       "['SEASHELLS', 'ON', 'SEASHORE']"
      ]
     },
     "execution_count": 35,
     "metadata": {},
     "output_type": "execute_result"
    }
   ],
   "source": [
    "# Range of accessing elements in List\n",
    "S1[2:5:1]"
   ]
  },
  {
   "cell_type": "code",
   "execution_count": 36,
   "id": "076f045e",
   "metadata": {},
   "outputs": [
    {
     "data": {
      "text/plain": [
       "['SELLS', 'ON']"
      ]
     },
     "execution_count": 36,
     "metadata": {},
     "output_type": "execute_result"
    }
   ],
   "source": [
    "S1[1::2]"
   ]
  },
  {
   "cell_type": "code",
   "execution_count": 37,
   "id": "a0e19d4a",
   "metadata": {},
   "outputs": [
    {
     "data": {
      "text/plain": [
       "['SELLS', 'SHE']"
      ]
     },
     "execution_count": 37,
     "metadata": {},
     "output_type": "execute_result"
    }
   ],
   "source": [
    "S1[1::-1]"
   ]
  },
  {
   "cell_type": "code",
   "execution_count": 38,
   "id": "06f377b6",
   "metadata": {},
   "outputs": [
    {
     "data": {
      "text/plain": [
       "['SHE SELLS SEASHELLS ', 'N SEASH', 'RE']"
      ]
     },
     "execution_count": 38,
     "metadata": {},
     "output_type": "execute_result"
    }
   ],
   "source": [
    "Sa.split('O')"
   ]
  },
  {
   "cell_type": "code",
   "execution_count": 39,
   "id": "0dea2721",
   "metadata": {},
   "outputs": [
    {
     "data": {
      "text/plain": [
       "['', 'HE ', 'ELL', ' ', 'EA', 'HELL', ' ON ', 'EA', 'HORE']"
      ]
     },
     "execution_count": 39,
     "metadata": {},
     "output_type": "execute_result"
    }
   ],
   "source": [
    "Sa.split(\"S\")"
   ]
  },
  {
   "cell_type": "code",
   "execution_count": 40,
   "id": "1de67dcf",
   "metadata": {},
   "outputs": [],
   "source": [
    "# Splits the string based on delimiter sep given in split('')"
   ]
  },
  {
   "cell_type": "code",
   "execution_count": 41,
   "id": "8a4719c6",
   "metadata": {},
   "outputs": [],
   "source": [
    "S2 =Sa.lower()"
   ]
  },
  {
   "cell_type": "code",
   "execution_count": 42,
   "id": "276f6855",
   "metadata": {},
   "outputs": [
    {
     "data": {
      "text/plain": [
       "'she sells seashells on seashore'"
      ]
     },
     "execution_count": 42,
     "metadata": {},
     "output_type": "execute_result"
    }
   ],
   "source": [
    "S2"
   ]
  },
  {
   "cell_type": "code",
   "execution_count": 43,
   "id": "bfd794fb",
   "metadata": {},
   "outputs": [],
   "source": [
    "S3 = S2.capitalize()"
   ]
  },
  {
   "cell_type": "code",
   "execution_count": 44,
   "id": "3ab3c896",
   "metadata": {},
   "outputs": [
    {
     "data": {
      "text/plain": [
       "'She sells seashells on seashore'"
      ]
     },
     "execution_count": 44,
     "metadata": {},
     "output_type": "execute_result"
    }
   ],
   "source": [
    "S3"
   ]
  },
  {
   "cell_type": "code",
   "execution_count": 45,
   "id": "4337030b",
   "metadata": {},
   "outputs": [],
   "source": [
    "S4 = S2.title()"
   ]
  },
  {
   "cell_type": "code",
   "execution_count": 46,
   "id": "4e0212ae",
   "metadata": {},
   "outputs": [
    {
     "data": {
      "text/plain": [
       "'She Sells Seashells On Seashore'"
      ]
     },
     "execution_count": 46,
     "metadata": {},
     "output_type": "execute_result"
    }
   ],
   "source": [
    "S4"
   ]
  },
  {
   "cell_type": "code",
   "execution_count": 47,
   "id": "7cfce530",
   "metadata": {},
   "outputs": [
    {
     "data": {
      "text/plain": [
       "'sHE sELLS sEASHELLS oN sEASHORE'"
      ]
     },
     "execution_count": 47,
     "metadata": {},
     "output_type": "execute_result"
    }
   ],
   "source": [
    "S5 = S4.swapcase()\n",
    "S5"
   ]
  },
  {
   "cell_type": "code",
   "execution_count": 48,
   "id": "02d9fbaa",
   "metadata": {},
   "outputs": [],
   "source": [
    "N, L = \"12345\", \"abcde\""
   ]
  },
  {
   "cell_type": "code",
   "execution_count": 49,
   "id": "6699984e",
   "metadata": {},
   "outputs": [
    {
     "data": {
      "text/plain": [
       "'a12345b12345c12345d12345e'"
      ]
     },
     "execution_count": 49,
     "metadata": {},
     "output_type": "execute_result"
    }
   ],
   "source": [
    "N.join(L)"
   ]
  },
  {
   "cell_type": "code",
   "execution_count": 50,
   "id": "b24a8597",
   "metadata": {},
   "outputs": [],
   "source": [
    "# Join- The string whose method(L) is called is inserted in btwn each given string(N).The result returns as a new string."
   ]
  },
  {
   "cell_type": "code",
   "execution_count": 51,
   "id": "2e927fff",
   "metadata": {},
   "outputs": [
    {
     "data": {
      "text/plain": [
       "'a p p l e'"
      ]
     },
     "execution_count": 51,
     "metadata": {},
     "output_type": "execute_result"
    }
   ],
   "source": [
    "\" \".join('apple')"
   ]
  },
  {
   "cell_type": "code",
   "execution_count": 52,
   "id": "a299c907",
   "metadata": {},
   "outputs": [
    {
     "name": "stdout",
     "output_type": "stream",
     "text": [
      "r\n",
      "a\n",
      "e\n"
     ]
    }
   ],
   "source": [
    "# Reverse of string without using range\n",
    "for i in reversed(\"ear\"):\n",
    "    print(i)"
   ]
  },
  {
   "cell_type": "code",
   "execution_count": 53,
   "id": "46179295",
   "metadata": {},
   "outputs": [],
   "source": [
    "L = \" Rstrip   \""
   ]
  },
  {
   "cell_type": "code",
   "execution_count": 54,
   "id": "0b265915",
   "metadata": {},
   "outputs": [
    {
     "data": {
      "text/plain": [
       "' Rstrip'"
      ]
     },
     "execution_count": 54,
     "metadata": {},
     "output_type": "execute_result"
    }
   ],
   "source": [
    "L.rstrip()"
   ]
  },
  {
   "cell_type": "code",
   "execution_count": 55,
   "id": "ecec44b1",
   "metadata": {},
   "outputs": [
    {
     "data": {
      "text/plain": [
       "'Rstrip   '"
      ]
     },
     "execution_count": 55,
     "metadata": {},
     "output_type": "execute_result"
    }
   ],
   "source": [
    "L.lstrip()"
   ]
  },
  {
   "cell_type": "code",
   "execution_count": 56,
   "id": "d7571ff5",
   "metadata": {},
   "outputs": [
    {
     "data": {
      "text/plain": [
       "'Rstrip'"
      ]
     },
     "execution_count": 56,
     "metadata": {},
     "output_type": "execute_result"
    }
   ],
   "source": [
    "L.strip()"
   ]
  },
  {
   "cell_type": "code",
   "execution_count": 57,
   "id": "a9ecf6e2",
   "metadata": {},
   "outputs": [],
   "source": [
    "L1 = L.lower()"
   ]
  },
  {
   "cell_type": "code",
   "execution_count": 58,
   "id": "89002503",
   "metadata": {},
   "outputs": [
    {
     "data": {
      "text/plain": [
       "' rstrip   '"
      ]
     },
     "execution_count": 58,
     "metadata": {},
     "output_type": "execute_result"
    }
   ],
   "source": [
    "L1"
   ]
  },
  {
   "cell_type": "code",
   "execution_count": 59,
   "id": "de56182f",
   "metadata": {},
   "outputs": [
    {
     "data": {
      "text/plain": [
       "' astaip   '"
      ]
     },
     "execution_count": 59,
     "metadata": {},
     "output_type": "execute_result"
    }
   ],
   "source": [
    "L2 = L1.replace(\"r\",\"a\")\n",
    "L2"
   ]
  },
  {
   "cell_type": "code",
   "execution_count": 60,
   "id": "8f8c1af2",
   "metadata": {},
   "outputs": [
    {
     "data": {
      "text/plain": [
       "0"
      ]
     },
     "execution_count": 60,
     "metadata": {},
     "output_type": "execute_result"
    }
   ],
   "source": [
    "L.count('a')"
   ]
  },
  {
   "cell_type": "code",
   "execution_count": 61,
   "id": "262b6e4a",
   "metadata": {},
   "outputs": [
    {
     "data": {
      "text/plain": [
       "'apple   strawberry'"
      ]
     },
     "execution_count": 61,
     "metadata": {},
     "output_type": "execute_result"
    }
   ],
   "source": [
    "\"apple\\tstrawberry\".expandtabs()"
   ]
  },
  {
   "cell_type": "code",
   "execution_count": 62,
   "id": "4a194ce1",
   "metadata": {},
   "outputs": [],
   "source": [
    "#\\t- free space btwn words. Expandtabs -for expanding words through free space"
   ]
  },
  {
   "cell_type": "code",
   "execution_count": 63,
   "id": "e293b7fd",
   "metadata": {},
   "outputs": [],
   "source": [
    "G =\"freespace\""
   ]
  },
  {
   "cell_type": "code",
   "execution_count": 64,
   "id": "952ce3fe",
   "metadata": {},
   "outputs": [
    {
     "data": {
      "text/plain": [
       "'aaaaafreespaceaaaaaa'"
      ]
     },
     "execution_count": 64,
     "metadata": {},
     "output_type": "execute_result"
    }
   ],
   "source": [
    "G.center(20,\"a\")"
   ]
  },
  {
   "cell_type": "code",
   "execution_count": 65,
   "id": "dc5f9a76",
   "metadata": {},
   "outputs": [
    {
     "data": {
      "text/plain": [
       "'FREESPACE'"
      ]
     },
     "execution_count": 65,
     "metadata": {},
     "output_type": "execute_result"
    }
   ],
   "source": [
    "G.upper()"
   ]
  },
  {
   "cell_type": "code",
   "execution_count": 66,
   "id": "8b40447c",
   "metadata": {},
   "outputs": [
    {
     "data": {
      "text/plain": [
       "False"
      ]
     },
     "execution_count": 66,
     "metadata": {},
     "output_type": "execute_result"
    }
   ],
   "source": [
    "G.isupper()"
   ]
  },
  {
   "cell_type": "code",
   "execution_count": 67,
   "id": "b67a7903",
   "metadata": {},
   "outputs": [],
   "source": [
    "# Any function which starts with 'is', always return True/False based on condition satisfied"
   ]
  },
  {
   "cell_type": "code",
   "execution_count": 68,
   "id": "1d4508aa",
   "metadata": {},
   "outputs": [
    {
     "data": {
      "text/plain": [
       "True"
      ]
     },
     "execution_count": 68,
     "metadata": {},
     "output_type": "execute_result"
    }
   ],
   "source": [
    "G.startswith('f')"
   ]
  },
  {
   "cell_type": "code",
   "execution_count": 69,
   "id": "119bb615",
   "metadata": {},
   "outputs": [
    {
     "data": {
      "text/plain": [
       "False"
      ]
     },
     "execution_count": 69,
     "metadata": {},
     "output_type": "execute_result"
    }
   ],
   "source": [
    "G.startswith(\"F\")"
   ]
  },
  {
   "cell_type": "code",
   "execution_count": 70,
   "id": "601e4ac2",
   "metadata": {},
   "outputs": [
    {
     "data": {
      "text/plain": [
       "False"
      ]
     },
     "execution_count": 70,
     "metadata": {},
     "output_type": "execute_result"
    }
   ],
   "source": [
    "G.endswith('s')"
   ]
  },
  {
   "cell_type": "code",
   "execution_count": 71,
   "id": "019b5365",
   "metadata": {},
   "outputs": [
    {
     "data": {
      "text/plain": [
       "False"
      ]
     },
     "execution_count": 71,
     "metadata": {},
     "output_type": "execute_result"
    }
   ],
   "source": [
    "G.istitle()"
   ]
  },
  {
   "cell_type": "markdown",
   "id": "4e77a4a6",
   "metadata": {},
   "source": [
    "List"
   ]
  },
  {
   "cell_type": "code",
   "execution_count": 72,
   "id": "e148cf9a",
   "metadata": {},
   "outputs": [],
   "source": [
    "# List - Collection of hetrogenous/ homogenous objects. It can hold any data type elements"
   ]
  },
  {
   "cell_type": "code",
   "execution_count": 73,
   "id": "f3f139c1",
   "metadata": {},
   "outputs": [],
   "source": [
    "List = [123,5645.56,\"strange\",True,437j,[45,43,68,'hello']]"
   ]
  },
  {
   "cell_type": "code",
   "execution_count": 74,
   "id": "b40d18be",
   "metadata": {},
   "outputs": [
    {
     "data": {
      "text/plain": [
       "123"
      ]
     },
     "execution_count": 74,
     "metadata": {},
     "output_type": "execute_result"
    }
   ],
   "source": [
    "List[0]"
   ]
  },
  {
   "cell_type": "code",
   "execution_count": 75,
   "id": "df3f08ad",
   "metadata": {},
   "outputs": [
    {
     "data": {
      "text/plain": [
       "437j"
      ]
     },
     "execution_count": 75,
     "metadata": {},
     "output_type": "execute_result"
    }
   ],
   "source": [
    "List[-2]"
   ]
  },
  {
   "cell_type": "code",
   "execution_count": 76,
   "id": "bea65918",
   "metadata": {},
   "outputs": [
    {
     "data": {
      "text/plain": [
       "[123, 5645.56, 'strange']"
      ]
     },
     "execution_count": 76,
     "metadata": {},
     "output_type": "execute_result"
    }
   ],
   "source": [
    "List[0:3]"
   ]
  },
  {
   "cell_type": "code",
   "execution_count": 77,
   "id": "41751109",
   "metadata": {},
   "outputs": [
    {
     "data": {
      "text/plain": [
       "[[45, 43, 68, 'hello']]"
      ]
     },
     "execution_count": 77,
     "metadata": {},
     "output_type": "execute_result"
    }
   ],
   "source": [
    "List[-1::]"
   ]
  },
  {
   "cell_type": "code",
   "execution_count": 78,
   "id": "578a5c92",
   "metadata": {},
   "outputs": [
    {
     "data": {
      "text/plain": [
       "[]"
      ]
     },
     "execution_count": 78,
     "metadata": {},
     "output_type": "execute_result"
    }
   ],
   "source": [
    "List[-1:0:]"
   ]
  },
  {
   "cell_type": "code",
   "execution_count": 79,
   "id": "4d9a4c75",
   "metadata": {},
   "outputs": [
    {
     "data": {
      "text/plain": [
       "[[45, 43, 68, 'hello'], 437j, True, 'strange', 5645.56]"
      ]
     },
     "execution_count": 79,
     "metadata": {},
     "output_type": "execute_result"
    }
   ],
   "source": [
    "List[-1:0:-1]"
   ]
  },
  {
   "cell_type": "code",
   "execution_count": 80,
   "id": "7591f549",
   "metadata": {},
   "outputs": [
    {
     "data": {
      "text/plain": [
       "[]"
      ]
     },
     "execution_count": 80,
     "metadata": {},
     "output_type": "execute_result"
    }
   ],
   "source": [
    "List[-1:-1:-1]"
   ]
  },
  {
   "cell_type": "code",
   "execution_count": 81,
   "id": "dddba0ea",
   "metadata": {},
   "outputs": [
    {
     "data": {
      "text/plain": [
       "[123, 'strange', 437j]"
      ]
     },
     "execution_count": 81,
     "metadata": {},
     "output_type": "execute_result"
    }
   ],
   "source": [
    "List[0::2]"
   ]
  },
  {
   "cell_type": "code",
   "execution_count": 82,
   "id": "3ce5ffc8",
   "metadata": {},
   "outputs": [],
   "source": [
    "L1 =List[-1]"
   ]
  },
  {
   "cell_type": "code",
   "execution_count": 83,
   "id": "16435524",
   "metadata": {},
   "outputs": [
    {
     "data": {
      "text/plain": [
       "45"
      ]
     },
     "execution_count": 83,
     "metadata": {},
     "output_type": "execute_result"
    }
   ],
   "source": [
    "L1[0]"
   ]
  },
  {
   "cell_type": "code",
   "execution_count": 84,
   "id": "06e03672",
   "metadata": {},
   "outputs": [
    {
     "name": "stderr",
     "output_type": "stream",
     "text": [
      "<>:1: SyntaxWarning: 'int' object is not subscriptable; perhaps you missed a comma?\n",
      "<>:1: SyntaxWarning: 'int' object is not subscriptable; perhaps you missed a comma?\n",
      "<ipython-input-84-51a37595145b>:1: SyntaxWarning: 'int' object is not subscriptable; perhaps you missed a comma?\n",
      "  List[-1[2]]\n"
     ]
    },
    {
     "ename": "TypeError",
     "evalue": "'int' object is not subscriptable",
     "output_type": "error",
     "traceback": [
      "\u001b[1;31m---------------------------------------------------------------------------\u001b[0m",
      "\u001b[1;31mTypeError\u001b[0m                                 Traceback (most recent call last)",
      "\u001b[1;32m<ipython-input-84-51a37595145b>\u001b[0m in \u001b[0;36m<module>\u001b[1;34m\u001b[0m\n\u001b[1;32m----> 1\u001b[1;33m \u001b[0mList\u001b[0m\u001b[1;33m[\u001b[0m\u001b[1;33m-\u001b[0m\u001b[1;36m1\u001b[0m\u001b[1;33m[\u001b[0m\u001b[1;36m2\u001b[0m\u001b[1;33m]\u001b[0m\u001b[1;33m]\u001b[0m\u001b[1;33m\u001b[0m\u001b[1;33m\u001b[0m\u001b[0m\n\u001b[0m",
      "\u001b[1;31mTypeError\u001b[0m: 'int' object is not subscriptable"
     ]
    }
   ],
   "source": [
    "List[-1[2]]"
   ]
  },
  {
   "cell_type": "code",
   "execution_count": 85,
   "id": "935aa9bf",
   "metadata": {},
   "outputs": [],
   "source": [
    "# Sub-list elements can be accessed only when they're stored in a variable, as int cant be used for elements exctraction"
   ]
  },
  {
   "cell_type": "code",
   "execution_count": 86,
   "id": "20b2a8b9",
   "metadata": {},
   "outputs": [
    {
     "data": {
      "text/plain": [
       "45"
      ]
     },
     "execution_count": 86,
     "metadata": {},
     "output_type": "execute_result"
    }
   ],
   "source": [
    "# Another way of accessing elements of inner(sub)list\n",
    "List[-1][0]"
   ]
  },
  {
   "cell_type": "code",
   "execution_count": 87,
   "id": "dfafe398",
   "metadata": {},
   "outputs": [],
   "source": [
    "L2 = [14,21,288,'ffg']\n",
    "L3=[4,56,576,'332']"
   ]
  },
  {
   "cell_type": "code",
   "execution_count": 88,
   "id": "58279a1d",
   "metadata": {},
   "outputs": [
    {
     "data": {
      "text/plain": [
       "[14, 21, 288, 'ffg', 4, 56, 576, '332']"
      ]
     },
     "execution_count": 88,
     "metadata": {},
     "output_type": "execute_result"
    }
   ],
   "source": [
    "L2+L3"
   ]
  },
  {
   "cell_type": "code",
   "execution_count": 89,
   "id": "aa7e2542",
   "metadata": {},
   "outputs": [],
   "source": [
    "L4 =[453,45j,[1,3,5,7]]"
   ]
  },
  {
   "cell_type": "code",
   "execution_count": 90,
   "id": "1ca6dd51",
   "metadata": {},
   "outputs": [
    {
     "data": {
      "text/plain": [
       "[4, 56, 576, '332', 453, 45j, [1, 3, 5, 7]]"
      ]
     },
     "execution_count": 90,
     "metadata": {},
     "output_type": "execute_result"
    }
   ],
   "source": [
    "L3+L4"
   ]
  },
  {
   "cell_type": "code",
   "execution_count": 91,
   "id": "68b348c6",
   "metadata": {},
   "outputs": [
    {
     "data": {
      "text/plain": [
       "[14, 21, 288, 'ffg', 14, 21, 38, 'fjksd']"
      ]
     },
     "execution_count": 91,
     "metadata": {},
     "output_type": "execute_result"
    }
   ],
   "source": [
    "L5 = [14,21,38,'fjksd']\n",
    "L2+L5"
   ]
  },
  {
   "cell_type": "code",
   "execution_count": 92,
   "id": "c328fc9e",
   "metadata": {},
   "outputs": [],
   "source": [
    "L5[3] = \"sid\""
   ]
  },
  {
   "cell_type": "code",
   "execution_count": 93,
   "id": "d37eb5e9",
   "metadata": {},
   "outputs": [
    {
     "data": {
      "text/plain": [
       "[14, 21, 38, 'sid']"
      ]
     },
     "execution_count": 93,
     "metadata": {},
     "output_type": "execute_result"
    }
   ],
   "source": [
    "L5"
   ]
  },
  {
   "cell_type": "code",
   "execution_count": 94,
   "id": "4ec94e7c",
   "metadata": {},
   "outputs": [
    {
     "ename": "TypeError",
     "evalue": "'str' object does not support item assignment",
     "output_type": "error",
     "traceback": [
      "\u001b[1;31m---------------------------------------------------------------------------\u001b[0m",
      "\u001b[1;31mTypeError\u001b[0m                                 Traceback (most recent call last)",
      "\u001b[1;32m<ipython-input-94-046db6da8229>\u001b[0m in \u001b[0;36m<module>\u001b[1;34m\u001b[0m\n\u001b[1;32m----> 1\u001b[1;33m \u001b[0mL5\u001b[0m\u001b[1;33m[\u001b[0m\u001b[1;36m3\u001b[0m\u001b[1;33m]\u001b[0m\u001b[1;33m[\u001b[0m\u001b[1;36m0\u001b[0m\u001b[1;33m]\u001b[0m\u001b[1;33m=\u001b[0m \u001b[1;34m\"k\"\u001b[0m\u001b[1;33m\u001b[0m\u001b[1;33m\u001b[0m\u001b[0m\n\u001b[0m",
      "\u001b[1;31mTypeError\u001b[0m: 'str' object does not support item assignment"
     ]
    }
   ],
   "source": [
    "L5[3][0]= \"k\""
   ]
  },
  {
   "cell_type": "code",
   "execution_count": 95,
   "id": "c60880e6",
   "metadata": {},
   "outputs": [],
   "source": [
    "# List is mutuable entity whereas string is an immutable entity. Hence elements can be replaced in List but not String"
   ]
  },
  {
   "cell_type": "code",
   "execution_count": 96,
   "id": "ab9b80fd",
   "metadata": {},
   "outputs": [
    {
     "data": {
      "text/plain": [
       "4"
      ]
     },
     "execution_count": 96,
     "metadata": {},
     "output_type": "execute_result"
    }
   ],
   "source": [
    "len(L2)"
   ]
  },
  {
   "cell_type": "code",
   "execution_count": 97,
   "id": "af1a7cf9",
   "metadata": {},
   "outputs": [
    {
     "data": {
      "text/plain": [
       "4"
      ]
     },
     "execution_count": 97,
     "metadata": {},
     "output_type": "execute_result"
    }
   ],
   "source": [
    "len(L5)"
   ]
  },
  {
   "cell_type": "code",
   "execution_count": 98,
   "id": "eceb2f22",
   "metadata": {},
   "outputs": [
    {
     "data": {
      "text/plain": [
       "True"
      ]
     },
     "execution_count": 98,
     "metadata": {},
     "output_type": "execute_result"
    }
   ],
   "source": [
    "\"sid\" in L5"
   ]
  },
  {
   "cell_type": "code",
   "execution_count": 99,
   "id": "0e2d9869",
   "metadata": {},
   "outputs": [],
   "source": [
    "L6 =[2,4,6,8,'kndf',76j,'feed',[234,4553]]"
   ]
  },
  {
   "cell_type": "code",
   "execution_count": 100,
   "id": "22b09d15",
   "metadata": {},
   "outputs": [],
   "source": [
    "L6.append('harsh')"
   ]
  },
  {
   "cell_type": "code",
   "execution_count": 101,
   "id": "c338616e",
   "metadata": {},
   "outputs": [
    {
     "data": {
      "text/plain": [
       "[2, 4, 6, 8, 'kndf', 76j, 'feed', [234, 4553], 'harsh']"
      ]
     },
     "execution_count": 101,
     "metadata": {},
     "output_type": "execute_result"
    }
   ],
   "source": [
    "L6"
   ]
  },
  {
   "cell_type": "code",
   "execution_count": 102,
   "id": "470fa9d0",
   "metadata": {},
   "outputs": [],
   "source": [
    "L6.remove(4)"
   ]
  },
  {
   "cell_type": "code",
   "execution_count": 103,
   "id": "18a8b860",
   "metadata": {},
   "outputs": [
    {
     "data": {
      "text/plain": [
       "[2, 6, 8, 'kndf', 76j, 'feed', [234, 4553], 'harsh']"
      ]
     },
     "execution_count": 103,
     "metadata": {},
     "output_type": "execute_result"
    }
   ],
   "source": [
    "L6"
   ]
  },
  {
   "cell_type": "code",
   "execution_count": 104,
   "id": "b20addac",
   "metadata": {},
   "outputs": [
    {
     "data": {
      "text/plain": [
       "'harsh'"
      ]
     },
     "execution_count": 104,
     "metadata": {},
     "output_type": "execute_result"
    }
   ],
   "source": [
    "L6.pop()"
   ]
  },
  {
   "cell_type": "code",
   "execution_count": 105,
   "id": "92c6fb0b",
   "metadata": {},
   "outputs": [
    {
     "data": {
      "text/plain": [
       "[2, 6, 8, 'kndf', 76j, 'feed', [234, 4553]]"
      ]
     },
     "execution_count": 105,
     "metadata": {},
     "output_type": "execute_result"
    }
   ],
   "source": [
    "L6"
   ]
  },
  {
   "cell_type": "raw",
   "id": "18c1e26f",
   "metadata": {},
   "source": [
    "Functions def-\n",
    "- Remove - particular element from list\n",
    "- Pop - removes last element from list\n",
    "- Append - Adds element to the last of list\n",
    "- insert - Adds element at desired index"
   ]
  },
  {
   "cell_type": "code",
   "execution_count": 106,
   "id": "8e85ff4a",
   "metadata": {},
   "outputs": [],
   "source": [
    "L6.append('hey')"
   ]
  },
  {
   "cell_type": "code",
   "execution_count": 107,
   "id": "06c324e0",
   "metadata": {},
   "outputs": [
    {
     "data": {
      "text/plain": [
       "[2, 6, 8, 'kndf', 76j, 'feed', [234, 4553], 'hey']"
      ]
     },
     "execution_count": 107,
     "metadata": {},
     "output_type": "execute_result"
    }
   ],
   "source": [
    "L6"
   ]
  },
  {
   "cell_type": "code",
   "execution_count": 108,
   "id": "5a692bdc",
   "metadata": {},
   "outputs": [],
   "source": [
    "L6.insert(3,[78,91])"
   ]
  },
  {
   "cell_type": "code",
   "execution_count": 109,
   "id": "e2e3025a",
   "metadata": {},
   "outputs": [
    {
     "data": {
      "text/plain": [
       "[2, 6, 8, [78, 91], 'kndf', 76j, 'feed', [234, 4553], 'hey']"
      ]
     },
     "execution_count": 109,
     "metadata": {},
     "output_type": "execute_result"
    }
   ],
   "source": [
    "L6"
   ]
  },
  {
   "cell_type": "code",
   "execution_count": 110,
   "id": "b451d562",
   "metadata": {},
   "outputs": [
    {
     "data": {
      "text/plain": [
       "1"
      ]
     },
     "execution_count": 110,
     "metadata": {},
     "output_type": "execute_result"
    }
   ],
   "source": [
    "L6.count('feed')"
   ]
  },
  {
   "cell_type": "code",
   "execution_count": 111,
   "id": "4382a07a",
   "metadata": {},
   "outputs": [
    {
     "data": {
      "text/plain": [
       "2"
      ]
     },
     "execution_count": 111,
     "metadata": {},
     "output_type": "execute_result"
    }
   ],
   "source": [
    "L6[-3].count('e')"
   ]
  },
  {
   "cell_type": "code",
   "execution_count": 112,
   "id": "00a3938e",
   "metadata": {},
   "outputs": [
    {
     "data": {
      "text/plain": [
       "[14, 21, 288, 'ffg']"
      ]
     },
     "execution_count": 112,
     "metadata": {},
     "output_type": "execute_result"
    }
   ],
   "source": [
    "L2"
   ]
  },
  {
   "cell_type": "code",
   "execution_count": 113,
   "id": "b8453790",
   "metadata": {},
   "outputs": [],
   "source": [
    "L2.append(['stop',54,32j])"
   ]
  },
  {
   "cell_type": "code",
   "execution_count": 114,
   "id": "92a78160",
   "metadata": {},
   "outputs": [
    {
     "data": {
      "text/plain": [
       "[14, 21, 288, 'ffg', ['stop', 54, 32j]]"
      ]
     },
     "execution_count": 114,
     "metadata": {},
     "output_type": "execute_result"
    }
   ],
   "source": [
    "L2"
   ]
  },
  {
   "cell_type": "code",
   "execution_count": 117,
   "id": "34cc15ae",
   "metadata": {},
   "outputs": [],
   "source": [
    "L2.extend([1,4,8,90,'step'])"
   ]
  },
  {
   "cell_type": "code",
   "execution_count": 118,
   "id": "45baae52",
   "metadata": {},
   "outputs": [
    {
     "data": {
      "text/plain": [
       "[14, 21, 288, 'ffg', ['stop', 54, 32j], 1, 4, 8, 90, 'step']"
      ]
     },
     "execution_count": 118,
     "metadata": {},
     "output_type": "execute_result"
    }
   ],
   "source": [
    "L2"
   ]
  },
  {
   "cell_type": "raw",
   "id": "0f22789d",
   "metadata": {},
   "source": [
    "Though append & extend both are used for adding elements to list,\n",
    "Append - Adds element as it is to list(Eg: string, list,int,etc)\n",
    "Extend - Unravels the list and adds elements to list \n",
    "Insert - Insert elements at a particular index"
   ]
  },
  {
   "cell_type": "code",
   "execution_count": null,
   "id": "7d79a9e8",
   "metadata": {},
   "outputs": [],
   "source": []
  }
 ],
 "metadata": {
  "kernelspec": {
   "display_name": "Python 3",
   "language": "python",
   "name": "python3"
  },
  "language_info": {
   "codemirror_mode": {
    "name": "ipython",
    "version": 3
   },
   "file_extension": ".py",
   "mimetype": "text/x-python",
   "name": "python",
   "nbconvert_exporter": "python",
   "pygments_lexer": "ipython3",
   "version": "3.8.8"
  }
 },
 "nbformat": 4,
 "nbformat_minor": 5
}
