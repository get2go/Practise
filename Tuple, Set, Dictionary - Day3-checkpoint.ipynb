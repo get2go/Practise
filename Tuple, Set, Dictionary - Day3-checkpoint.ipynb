{
 "cells": [
  {
   "cell_type": "markdown",
   "id": "d3bd9180",
   "metadata": {},
   "source": [
    "Tuples"
   ]
  },
  {
   "cell_type": "code",
   "execution_count": 1,
   "id": "b504581c",
   "metadata": {},
   "outputs": [],
   "source": [
    "T =(12,24,36,'tuple',False)"
   ]
  },
  {
   "cell_type": "code",
   "execution_count": 2,
   "id": "569d5e60",
   "metadata": {},
   "outputs": [
    {
     "data": {
      "text/plain": [
       "tuple"
      ]
     },
     "execution_count": 2,
     "metadata": {},
     "output_type": "execute_result"
    }
   ],
   "source": [
    "type(T)"
   ]
  },
  {
   "cell_type": "code",
   "execution_count": 3,
   "id": "7d59036f",
   "metadata": {},
   "outputs": [
    {
     "data": {
      "text/plain": [
       "(12, 24, 36, 'tuple', False)"
      ]
     },
     "execution_count": 3,
     "metadata": {},
     "output_type": "execute_result"
    }
   ],
   "source": [
    "T[::]"
   ]
  },
  {
   "cell_type": "code",
   "execution_count": 4,
   "id": "686d5322",
   "metadata": {},
   "outputs": [
    {
     "data": {
      "text/plain": [
       "(12, 24, 36, 'tuple')"
      ]
     },
     "execution_count": 4,
     "metadata": {},
     "output_type": "execute_result"
    }
   ],
   "source": [
    "T[0:-1:]"
   ]
  },
  {
   "cell_type": "code",
   "execution_count": 5,
   "id": "d2ae648e",
   "metadata": {},
   "outputs": [
    {
     "data": {
      "text/plain": [
       "(False, 'tuple', 36, 24, 12)"
      ]
     },
     "execution_count": 5,
     "metadata": {},
     "output_type": "execute_result"
    }
   ],
   "source": [
    "T[::-1]"
   ]
  },
  {
   "cell_type": "code",
   "execution_count": 6,
   "id": "c3a9b1fe",
   "metadata": {},
   "outputs": [],
   "source": [
    "# Slicing operations of Tuple are similar to List"
   ]
  },
  {
   "cell_type": "code",
   "execution_count": 7,
   "id": "4b07d1c1",
   "metadata": {},
   "outputs": [
    {
     "data": {
      "text/plain": [
       "'tuple'"
      ]
     },
     "execution_count": 7,
     "metadata": {},
     "output_type": "execute_result"
    }
   ],
   "source": [
    "T[3]"
   ]
  },
  {
   "cell_type": "code",
   "execution_count": 8,
   "id": "a60309ee",
   "metadata": {},
   "outputs": [
    {
     "data": {
      "text/plain": [
       "(12, 36, False)"
      ]
     },
     "execution_count": 8,
     "metadata": {},
     "output_type": "execute_result"
    }
   ],
   "source": [
    "T[0::2]"
   ]
  },
  {
   "cell_type": "code",
   "execution_count": 9,
   "id": "3e5a7f97",
   "metadata": {},
   "outputs": [],
   "source": [
    "L = [12,24,36,'tuple',False]"
   ]
  },
  {
   "cell_type": "code",
   "execution_count": 10,
   "id": "ef0d8e70",
   "metadata": {},
   "outputs": [
    {
     "data": {
      "text/plain": [
       "list"
      ]
     },
     "execution_count": 10,
     "metadata": {},
     "output_type": "execute_result"
    }
   ],
   "source": [
    "type(L)"
   ]
  },
  {
   "cell_type": "code",
   "execution_count": 11,
   "id": "d5eff8de",
   "metadata": {},
   "outputs": [],
   "source": [
    "L1 = [0,4,8,16,'mul of 4']"
   ]
  },
  {
   "cell_type": "code",
   "execution_count": 12,
   "id": "8e792967",
   "metadata": {},
   "outputs": [],
   "source": [
    "L1[4]= 32"
   ]
  },
  {
   "cell_type": "code",
   "execution_count": 13,
   "id": "c21d86e7",
   "metadata": {},
   "outputs": [
    {
     "data": {
      "text/plain": [
       "[0, 4, 8, 16, 32]"
      ]
     },
     "execution_count": 13,
     "metadata": {},
     "output_type": "execute_result"
    }
   ],
   "source": [
    "L1"
   ]
  },
  {
   "cell_type": "code",
   "execution_count": 14,
   "id": "e05640ff",
   "metadata": {},
   "outputs": [
    {
     "data": {
      "text/plain": [
       "(12, 24, 36, 'tuple', False)"
      ]
     },
     "execution_count": 14,
     "metadata": {},
     "output_type": "execute_result"
    }
   ],
   "source": [
    "T"
   ]
  },
  {
   "cell_type": "raw",
   "id": "60b3a83a",
   "metadata": {},
   "source": [
    "Difference between Tuple & List:\n",
    "- Tuple - () ; List - []\n",
    "- Tuple - immutable ; List - Mutable, so tuple cant perform item reassignment operation/ add items as well"
   ]
  },
  {
   "cell_type": "code",
   "execution_count": 15,
   "id": "b07e2805",
   "metadata": {},
   "outputs": [],
   "source": [
    "T1 =(1,3,5,7,9,12,24,36,'tuple')"
   ]
  },
  {
   "cell_type": "code",
   "execution_count": 16,
   "id": "10c98154",
   "metadata": {},
   "outputs": [],
   "source": [
    "T3 =T + T1"
   ]
  },
  {
   "cell_type": "code",
   "execution_count": 17,
   "id": "888ff816",
   "metadata": {},
   "outputs": [
    {
     "data": {
      "text/plain": [
       "(12, 24, 36, 'tuple', False, 1, 3, 5, 7, 9, 12, 24, 36, 'tuple')"
      ]
     },
     "execution_count": 17,
     "metadata": {},
     "output_type": "execute_result"
    }
   ],
   "source": [
    "T3"
   ]
  },
  {
   "cell_type": "code",
   "execution_count": 18,
   "id": "9a08c2c4",
   "metadata": {},
   "outputs": [
    {
     "data": {
      "text/plain": [
       "0"
      ]
     },
     "execution_count": 18,
     "metadata": {},
     "output_type": "execute_result"
    }
   ],
   "source": [
    "T.count(\"u\")"
   ]
  },
  {
   "cell_type": "code",
   "execution_count": 19,
   "id": "ec5141ce",
   "metadata": {},
   "outputs": [
    {
     "data": {
      "text/plain": [
       "2"
      ]
     },
     "execution_count": 19,
     "metadata": {},
     "output_type": "execute_result"
    }
   ],
   "source": [
    "T3.count('tuple')"
   ]
  },
  {
   "cell_type": "code",
   "execution_count": 20,
   "id": "69c7b956",
   "metadata": {},
   "outputs": [
    {
     "data": {
      "text/plain": [
       "7"
      ]
     },
     "execution_count": 20,
     "metadata": {},
     "output_type": "execute_result"
    }
   ],
   "source": [
    "T3.index(5)"
   ]
  },
  {
   "cell_type": "code",
   "execution_count": 21,
   "id": "20fb1699",
   "metadata": {},
   "outputs": [],
   "source": [
    "T2 = (12,35645,56j,(\"bdf\",True))"
   ]
  },
  {
   "cell_type": "code",
   "execution_count": 22,
   "id": "d3ea76b8",
   "metadata": {},
   "outputs": [
    {
     "data": {
      "text/plain": [
       "'bdf'"
      ]
     },
     "execution_count": 22,
     "metadata": {},
     "output_type": "execute_result"
    }
   ],
   "source": [
    "T2[-1][0]"
   ]
  },
  {
   "cell_type": "code",
   "execution_count": 23,
   "id": "6b475914",
   "metadata": {},
   "outputs": [
    {
     "ename": "TypeError",
     "evalue": "'tuple' object does not support item assignment",
     "output_type": "error",
     "traceback": [
      "\u001b[1;31m---------------------------------------------------------------------------\u001b[0m",
      "\u001b[1;31mTypeError\u001b[0m                                 Traceback (most recent call last)",
      "\u001b[1;32m<ipython-input-23-2598f33aa872>\u001b[0m in \u001b[0;36m<module>\u001b[1;34m\u001b[0m\n\u001b[1;32m----> 1\u001b[1;33m \u001b[0mT2\u001b[0m\u001b[1;33m[\u001b[0m\u001b[1;36m3\u001b[0m\u001b[1;33m]\u001b[0m\u001b[1;33m[\u001b[0m\u001b[1;36m1\u001b[0m\u001b[1;33m]\u001b[0m\u001b[1;33m=\u001b[0m\u001b[1;36m34.35\u001b[0m\u001b[1;33m\u001b[0m\u001b[1;33m\u001b[0m\u001b[0m\n\u001b[0m",
      "\u001b[1;31mTypeError\u001b[0m: 'tuple' object does not support item assignment"
     ]
    }
   ],
   "source": [
    "T2[3][1]=34.35"
   ]
  },
  {
   "cell_type": "code",
   "execution_count": 24,
   "id": "fd017b28",
   "metadata": {},
   "outputs": [
    {
     "data": {
      "text/plain": [
       "(12, 35645, 56j, ('bdf', True))"
      ]
     },
     "execution_count": 24,
     "metadata": {},
     "output_type": "execute_result"
    }
   ],
   "source": [
    "T2"
   ]
  },
  {
   "cell_type": "code",
   "execution_count": 25,
   "id": "c4b17bee",
   "metadata": {},
   "outputs": [],
   "source": [
    "T4 =(23.56,\"nbd\",76j,(\"start\",0.85,False),[555,787,45,56])"
   ]
  },
  {
   "cell_type": "code",
   "execution_count": 26,
   "id": "14023e40",
   "metadata": {},
   "outputs": [
    {
     "ename": "IndexError",
     "evalue": "list assignment index out of range",
     "output_type": "error",
     "traceback": [
      "\u001b[1;31m---------------------------------------------------------------------------\u001b[0m",
      "\u001b[1;31mIndexError\u001b[0m                                Traceback (most recent call last)",
      "\u001b[1;32m<ipython-input-26-e9713fd81597>\u001b[0m in \u001b[0;36m<module>\u001b[1;34m\u001b[0m\n\u001b[1;32m----> 1\u001b[1;33m \u001b[0mT4\u001b[0m\u001b[1;33m[\u001b[0m\u001b[1;33m-\u001b[0m\u001b[1;36m1\u001b[0m\u001b[1;33m]\u001b[0m\u001b[1;33m[\u001b[0m\u001b[1;36m4\u001b[0m\u001b[1;33m]\u001b[0m\u001b[1;33m=\u001b[0m\u001b[1;33m[\u001b[0m\u001b[1;34m\"list\"\u001b[0m\u001b[1;33m]\u001b[0m\u001b[1;33m\u001b[0m\u001b[1;33m\u001b[0m\u001b[0m\n\u001b[0m",
      "\u001b[1;31mIndexError\u001b[0m: list assignment index out of range"
     ]
    }
   ],
   "source": [
    "T4[-1][4]=[\"list\"]"
   ]
  },
  {
   "cell_type": "code",
   "execution_count": 27,
   "id": "401f9f62",
   "metadata": {},
   "outputs": [],
   "source": [
    "# so we cant add new index to existing list but we can reassign elements"
   ]
  },
  {
   "cell_type": "code",
   "execution_count": 28,
   "id": "fc1a6756",
   "metadata": {},
   "outputs": [],
   "source": [
    "T4[-1][2]=32.678"
   ]
  },
  {
   "cell_type": "code",
   "execution_count": 29,
   "id": "52953a6b",
   "metadata": {},
   "outputs": [
    {
     "data": {
      "text/plain": [
       "(23.56, 'nbd', 76j, ('start', 0.85, False), [555, 787, 32.678, 56])"
      ]
     },
     "execution_count": 29,
     "metadata": {},
     "output_type": "execute_result"
    }
   ],
   "source": [
    "T4"
   ]
  },
  {
   "cell_type": "markdown",
   "id": "08b5d927",
   "metadata": {},
   "source": [
    "SET"
   ]
  },
  {
   "cell_type": "raw",
   "id": "e6c46a6b",
   "metadata": {},
   "source": [
    "Set \n",
    "- Collection of unordered data. Represented by {}.\n",
    "- Collection of unique elements only, i.e,it removes duplicate elements by itself."
   ]
  },
  {
   "cell_type": "code",
   "execution_count": 30,
   "id": "4359ff7c",
   "metadata": {},
   "outputs": [],
   "source": [
    "L4 = [1,11,1,1,11,2,22,22,2,3,33,3,4]"
   ]
  },
  {
   "cell_type": "code",
   "execution_count": 31,
   "id": "a7de871a",
   "metadata": {},
   "outputs": [],
   "source": [
    "S = set(L4)"
   ]
  },
  {
   "cell_type": "code",
   "execution_count": 32,
   "id": "1b5830dd",
   "metadata": {},
   "outputs": [
    {
     "data": {
      "text/plain": [
       "{1, 2, 3, 4, 11, 22, 33}"
      ]
     },
     "execution_count": 32,
     "metadata": {},
     "output_type": "execute_result"
    }
   ],
   "source": [
    "S"
   ]
  },
  {
   "cell_type": "code",
   "execution_count": 33,
   "id": "247f0daa",
   "metadata": {},
   "outputs": [],
   "source": [
    "s = {}"
   ]
  },
  {
   "cell_type": "code",
   "execution_count": 34,
   "id": "bbf8a402",
   "metadata": {},
   "outputs": [
    {
     "data": {
      "text/plain": [
       "dict"
      ]
     },
     "execution_count": 34,
     "metadata": {},
     "output_type": "execute_result"
    }
   ],
   "source": [
    "type(s)"
   ]
  },
  {
   "cell_type": "code",
   "execution_count": 35,
   "id": "8cdbbe4f",
   "metadata": {},
   "outputs": [
    {
     "ename": "TypeError",
     "evalue": "'set' object is not subscriptable",
     "output_type": "error",
     "traceback": [
      "\u001b[1;31m---------------------------------------------------------------------------\u001b[0m",
      "\u001b[1;31mTypeError\u001b[0m                                 Traceback (most recent call last)",
      "\u001b[1;32m<ipython-input-35-aa0c54f83bdc>\u001b[0m in \u001b[0;36m<module>\u001b[1;34m\u001b[0m\n\u001b[1;32m----> 1\u001b[1;33m \u001b[0mS\u001b[0m\u001b[1;33m[\u001b[0m\u001b[1;36m2\u001b[0m\u001b[1;33m]\u001b[0m\u001b[1;33m\u001b[0m\u001b[1;33m\u001b[0m\u001b[0m\n\u001b[0m",
      "\u001b[1;31mTypeError\u001b[0m: 'set' object is not subscriptable"
     ]
    }
   ],
   "source": [
    "S[2]"
   ]
  },
  {
   "cell_type": "code",
   "execution_count": 36,
   "id": "ac1fe6af",
   "metadata": {},
   "outputs": [],
   "source": [
    "# As set is collection of unordered data, it doesn't possible to get index.So slicing operations aren't possible for Set"
   ]
  },
  {
   "cell_type": "code",
   "execution_count": 37,
   "id": "b0e0a191",
   "metadata": {},
   "outputs": [],
   "source": [
    "S.add(44)"
   ]
  },
  {
   "cell_type": "code",
   "execution_count": 38,
   "id": "f90ea207",
   "metadata": {},
   "outputs": [
    {
     "data": {
      "text/plain": [
       "{1, 2, 3, 4, 11, 22, 33, 44}"
      ]
     },
     "execution_count": 38,
     "metadata": {},
     "output_type": "execute_result"
    }
   ],
   "source": [
    "S"
   ]
  },
  {
   "cell_type": "code",
   "execution_count": 39,
   "id": "6886477c",
   "metadata": {},
   "outputs": [],
   "source": [
    "s =S.copy()"
   ]
  },
  {
   "cell_type": "code",
   "execution_count": 40,
   "id": "0a1c47f2",
   "metadata": {},
   "outputs": [
    {
     "data": {
      "text/plain": [
       "{1, 2, 3, 4, 11, 22, 33, 44}"
      ]
     },
     "execution_count": 40,
     "metadata": {},
     "output_type": "execute_result"
    }
   ],
   "source": [
    "s"
   ]
  },
  {
   "cell_type": "code",
   "execution_count": 41,
   "id": "ab77363c",
   "metadata": {},
   "outputs": [],
   "source": [
    "S ={1,3,5,7,9} \n",
    "S1 = {1,3,5,7,'set'}"
   ]
  },
  {
   "cell_type": "code",
   "execution_count": 42,
   "id": "0432fa91",
   "metadata": {},
   "outputs": [
    {
     "data": {
      "text/plain": [
       "{1, 3, 5, 7, 9}"
      ]
     },
     "execution_count": 42,
     "metadata": {},
     "output_type": "execute_result"
    }
   ],
   "source": [
    "S"
   ]
  },
  {
   "cell_type": "code",
   "execution_count": 43,
   "id": "413ef106",
   "metadata": {},
   "outputs": [
    {
     "data": {
      "text/plain": [
       "{1, 3, 5, 7, 'set'}"
      ]
     },
     "execution_count": 43,
     "metadata": {},
     "output_type": "execute_result"
    }
   ],
   "source": [
    "S1"
   ]
  },
  {
   "cell_type": "code",
   "execution_count": 44,
   "id": "ff5185f9",
   "metadata": {},
   "outputs": [
    {
     "data": {
      "text/plain": [
       "{9}"
      ]
     },
     "execution_count": 44,
     "metadata": {},
     "output_type": "execute_result"
    }
   ],
   "source": [
    "S.difference(S1)"
   ]
  },
  {
   "cell_type": "code",
   "execution_count": 45,
   "id": "34a7160e",
   "metadata": {},
   "outputs": [],
   "source": [
    "S1.difference_update(S)"
   ]
  },
  {
   "cell_type": "code",
   "execution_count": 46,
   "id": "04e58caf",
   "metadata": {},
   "outputs": [
    {
     "data": {
      "text/plain": [
       "{'set'}"
      ]
     },
     "execution_count": 46,
     "metadata": {},
     "output_type": "execute_result"
    }
   ],
   "source": [
    "S1"
   ]
  },
  {
   "cell_type": "code",
   "execution_count": 47,
   "id": "65d3b536",
   "metadata": {},
   "outputs": [],
   "source": [
    "S1.add(45)"
   ]
  },
  {
   "cell_type": "code",
   "execution_count": 48,
   "id": "4db19018",
   "metadata": {},
   "outputs": [
    {
     "data": {
      "text/plain": [
       "{45, 'set'}"
      ]
     },
     "execution_count": 48,
     "metadata": {},
     "output_type": "execute_result"
    }
   ],
   "source": [
    "S1"
   ]
  },
  {
   "cell_type": "code",
   "execution_count": 49,
   "id": "b23ce2ef",
   "metadata": {},
   "outputs": [],
   "source": [
    "S1.update([1,2,3])"
   ]
  },
  {
   "cell_type": "code",
   "execution_count": 50,
   "id": "4c4faefd",
   "metadata": {},
   "outputs": [
    {
     "data": {
      "text/plain": [
       "{1, 2, 3, 45, 'set'}"
      ]
     },
     "execution_count": 50,
     "metadata": {},
     "output_type": "execute_result"
    }
   ],
   "source": [
    "S1"
   ]
  },
  {
   "cell_type": "code",
   "execution_count": 51,
   "id": "c275842b",
   "metadata": {},
   "outputs": [
    {
     "ename": "TypeError",
     "evalue": "unhashable type: 'list'",
     "output_type": "error",
     "traceback": [
      "\u001b[1;31m---------------------------------------------------------------------------\u001b[0m",
      "\u001b[1;31mTypeError\u001b[0m                                 Traceback (most recent call last)",
      "\u001b[1;32m<ipython-input-51-1a9373a82463>\u001b[0m in \u001b[0;36m<module>\u001b[1;34m\u001b[0m\n\u001b[1;32m----> 1\u001b[1;33m \u001b[0mS1\u001b[0m\u001b[1;33m.\u001b[0m\u001b[0madd\u001b[0m\u001b[1;33m(\u001b[0m\u001b[1;33m[\u001b[0m\u001b[1;36m78\u001b[0m\u001b[1;33m,\u001b[0m\u001b[1;34m\"string\"\u001b[0m\u001b[1;33m]\u001b[0m\u001b[1;33m)\u001b[0m\u001b[1;33m\u001b[0m\u001b[1;33m\u001b[0m\u001b[0m\n\u001b[0m",
      "\u001b[1;31mTypeError\u001b[0m: unhashable type: 'list'"
     ]
    }
   ],
   "source": [
    "S1.add([78,\"string\"])"
   ]
  },
  {
   "cell_type": "code",
   "execution_count": 52,
   "id": "4e455f7d",
   "metadata": {},
   "outputs": [],
   "source": [
    "S1.update([1, 2, 3, 45, 'set'])"
   ]
  },
  {
   "cell_type": "code",
   "execution_count": 53,
   "id": "5da19396",
   "metadata": {},
   "outputs": [
    {
     "data": {
      "text/plain": [
       "{1, 2, 3, 45, 'set'}"
      ]
     },
     "execution_count": 53,
     "metadata": {},
     "output_type": "execute_result"
    }
   ],
   "source": [
    "S1"
   ]
  },
  {
   "cell_type": "code",
   "execution_count": 54,
   "id": "1bdd0a80",
   "metadata": {},
   "outputs": [],
   "source": [
    "S1.update({1, 2, 3, 45, 'set',907})"
   ]
  },
  {
   "cell_type": "code",
   "execution_count": 55,
   "id": "c731c7c0",
   "metadata": {},
   "outputs": [
    {
     "data": {
      "text/plain": [
       "{1, 2, 3, 45, 907, 'set'}"
      ]
     },
     "execution_count": 55,
     "metadata": {},
     "output_type": "execute_result"
    }
   ],
   "source": [
    "S1"
   ]
  },
  {
   "cell_type": "raw",
   "id": "3eb9beb1",
   "metadata": {},
   "source": [
    "Difference b/w \"Add\" & \"Update\"\n",
    "Add - Adds element to set as it is. Eg: int, string, complex, tuple\n",
    "Update - Adds element to set by extracting them if they're present in list/tuple/set"
   ]
  },
  {
   "cell_type": "code",
   "execution_count": 56,
   "id": "8dd727d8",
   "metadata": {},
   "outputs": [
    {
     "ename": "TypeError",
     "evalue": "unhashable type: 'list'",
     "output_type": "error",
     "traceback": [
      "\u001b[1;31m---------------------------------------------------------------------------\u001b[0m",
      "\u001b[1;31mTypeError\u001b[0m                                 Traceback (most recent call last)",
      "\u001b[1;32m<ipython-input-56-d8fa419c25b9>\u001b[0m in \u001b[0;36m<module>\u001b[1;34m\u001b[0m\n\u001b[1;32m----> 1\u001b[1;33m \u001b[0mS2\u001b[0m \u001b[1;33m=\u001b[0m \u001b[1;33m{\u001b[0m\u001b[1;33m[\u001b[0m\u001b[1;36m1\u001b[0m\u001b[1;33m,\u001b[0m\u001b[1;34m'bfvb'\u001b[0m\u001b[1;33m,\u001b[0m\u001b[1;36m45j\u001b[0m\u001b[1;33m]\u001b[0m\u001b[1;33m}\u001b[0m\u001b[1;33m\u001b[0m\u001b[1;33m\u001b[0m\u001b[0m\n\u001b[0m",
      "\u001b[1;31mTypeError\u001b[0m: unhashable type: 'list'"
     ]
    }
   ],
   "source": [
    "S2 = {[1,'bfvb',45j]}"
   ]
  },
  {
   "cell_type": "code",
   "execution_count": 57,
   "id": "5537066d",
   "metadata": {},
   "outputs": [],
   "source": [
    "S2 = {(1,'bfvb',45j)}"
   ]
  },
  {
   "cell_type": "code",
   "execution_count": 58,
   "id": "482c2ce5",
   "metadata": {},
   "outputs": [
    {
     "data": {
      "text/plain": [
       "{(1, 'bfvb', 45j)}"
      ]
     },
     "execution_count": 58,
     "metadata": {},
     "output_type": "execute_result"
    }
   ],
   "source": [
    "S2"
   ]
  },
  {
   "cell_type": "code",
   "execution_count": 59,
   "id": "af7e5f3e",
   "metadata": {},
   "outputs": [],
   "source": [
    "# As set is a collection of unique unordered elements, so it can accept only primitive data(eg:int,float,etc) not collection.\n",
    "# Hence list is rejected whereas tuple is accepted in set bcoz it is immutable."
   ]
  },
  {
   "cell_type": "code",
   "execution_count": 60,
   "id": "5ed4c9a0",
   "metadata": {},
   "outputs": [],
   "source": [
    "S3 = {1,324,\"ghfjfh\",1,324,\"ghfjfh\"}"
   ]
  },
  {
   "cell_type": "code",
   "execution_count": 61,
   "id": "179ef3ad",
   "metadata": {},
   "outputs": [
    {
     "data": {
      "text/plain": [
       "{1, 324, 'ghfjfh'}"
      ]
     },
     "execution_count": 61,
     "metadata": {},
     "output_type": "execute_result"
    }
   ],
   "source": [
    "S3"
   ]
  },
  {
   "cell_type": "code",
   "execution_count": 62,
   "id": "d8ca5e3d",
   "metadata": {},
   "outputs": [],
   "source": [
    "S3.remove(1)"
   ]
  },
  {
   "cell_type": "code",
   "execution_count": 63,
   "id": "57b6c608",
   "metadata": {},
   "outputs": [
    {
     "data": {
      "text/plain": [
       "{324, 'ghfjfh'}"
      ]
     },
     "execution_count": 63,
     "metadata": {},
     "output_type": "execute_result"
    }
   ],
   "source": [
    "S3"
   ]
  },
  {
   "cell_type": "code",
   "execution_count": 64,
   "id": "834eeaf6",
   "metadata": {},
   "outputs": [
    {
     "ename": "TypeError",
     "evalue": "add() takes exactly one argument (4 given)",
     "output_type": "error",
     "traceback": [
      "\u001b[1;31m---------------------------------------------------------------------------\u001b[0m",
      "\u001b[1;31mTypeError\u001b[0m                                 Traceback (most recent call last)",
      "\u001b[1;32m<ipython-input-64-d10cbc66d244>\u001b[0m in \u001b[0;36m<module>\u001b[1;34m\u001b[0m\n\u001b[1;32m----> 1\u001b[1;33m \u001b[0mS3\u001b[0m\u001b[1;33m.\u001b[0m\u001b[0madd\u001b[0m\u001b[1;33m(\u001b[0m\u001b[1;34m'add'\u001b[0m\u001b[1;33m,\u001b[0m\u001b[1;34m'string'\u001b[0m\u001b[1;33m,\u001b[0m\u001b[1;36m1258.465\u001b[0m\u001b[1;33m,\u001b[0m\u001b[1;36m789\u001b[0m\u001b[1;33m)\u001b[0m\u001b[1;33m\u001b[0m\u001b[1;33m\u001b[0m\u001b[0m\n\u001b[0m",
      "\u001b[1;31mTypeError\u001b[0m: add() takes exactly one argument (4 given)"
     ]
    }
   ],
   "source": [
    "S3.add('add','string',1258.465,789)"
   ]
  },
  {
   "cell_type": "code",
   "execution_count": 65,
   "id": "43b3163b",
   "metadata": {},
   "outputs": [],
   "source": [
    "S3.add(4)"
   ]
  },
  {
   "cell_type": "code",
   "execution_count": 66,
   "id": "1d8e0ad5",
   "metadata": {},
   "outputs": [
    {
     "data": {
      "text/plain": [
       "{324, 4, 'ghfjfh'}"
      ]
     },
     "execution_count": 66,
     "metadata": {},
     "output_type": "execute_result"
    }
   ],
   "source": [
    "S3"
   ]
  },
  {
   "cell_type": "code",
   "execution_count": 67,
   "id": "bb55706b",
   "metadata": {},
   "outputs": [],
   "source": [
    "S3.discard('ghfjfh')"
   ]
  },
  {
   "cell_type": "code",
   "execution_count": 68,
   "id": "ad23762b",
   "metadata": {},
   "outputs": [
    {
     "ename": "KeyError",
     "evalue": "78",
     "output_type": "error",
     "traceback": [
      "\u001b[1;31m---------------------------------------------------------------------------\u001b[0m",
      "\u001b[1;31mKeyError\u001b[0m                                  Traceback (most recent call last)",
      "\u001b[1;32m<ipython-input-68-4c2c83a08cb6>\u001b[0m in \u001b[0;36m<module>\u001b[1;34m\u001b[0m\n\u001b[1;32m----> 1\u001b[1;33m \u001b[0mS3\u001b[0m\u001b[1;33m.\u001b[0m\u001b[0mremove\u001b[0m\u001b[1;33m(\u001b[0m\u001b[1;36m78\u001b[0m\u001b[1;33m)\u001b[0m\u001b[1;33m\u001b[0m\u001b[1;33m\u001b[0m\u001b[0m\n\u001b[0m",
      "\u001b[1;31mKeyError\u001b[0m: 78"
     ]
    }
   ],
   "source": [
    "S3.remove(78)"
   ]
  },
  {
   "cell_type": "code",
   "execution_count": 69,
   "id": "67fc6aa4",
   "metadata": {},
   "outputs": [],
   "source": [
    "S3.discard(98)"
   ]
  },
  {
   "cell_type": "code",
   "execution_count": 70,
   "id": "36ff365f",
   "metadata": {},
   "outputs": [
    {
     "data": {
      "text/plain": [
       "{4, 324}"
      ]
     },
     "execution_count": 70,
     "metadata": {},
     "output_type": "execute_result"
    }
   ],
   "source": [
    "S3"
   ]
  },
  {
   "cell_type": "raw",
   "id": "4b276151",
   "metadata": {},
   "source": [
    "Discard- Removes element if it is in Set, doesn't throw error\n",
    "Remove - Removes element if it is in Set, throws an error saying element doesn't exist in set"
   ]
  },
  {
   "cell_type": "code",
   "execution_count": 71,
   "id": "01fe537d",
   "metadata": {},
   "outputs": [],
   "source": [
    "S4 ={'exam',\"table\",\"timetable\",\"examiner\",\"MARKS\",\"Table\"}"
   ]
  },
  {
   "cell_type": "code",
   "execution_count": 72,
   "id": "926e7261",
   "metadata": {},
   "outputs": [
    {
     "data": {
      "text/plain": [
       "{'MARKS', 'Table', 'exam', 'examiner', 'table', 'timetable'}"
      ]
     },
     "execution_count": 72,
     "metadata": {},
     "output_type": "execute_result"
    }
   ],
   "source": [
    "S4"
   ]
  },
  {
   "cell_type": "code",
   "execution_count": 73,
   "id": "9847448a",
   "metadata": {},
   "outputs": [],
   "source": [
    "S4.add('examination')"
   ]
  },
  {
   "cell_type": "code",
   "execution_count": 74,
   "id": "fe2c5e4b",
   "metadata": {},
   "outputs": [
    {
     "data": {
      "text/plain": [
       "{'MARKS', 'Table', 'exam', 'examination', 'examiner', 'table', 'timetable'}"
      ]
     },
     "execution_count": 74,
     "metadata": {},
     "output_type": "execute_result"
    }
   ],
   "source": [
    "S4"
   ]
  },
  {
   "cell_type": "code",
   "execution_count": 75,
   "id": "54ae1220",
   "metadata": {},
   "outputs": [],
   "source": [
    "S4.add(45.56)"
   ]
  },
  {
   "cell_type": "code",
   "execution_count": 76,
   "id": "b038b919",
   "metadata": {},
   "outputs": [
    {
     "data": {
      "text/plain": [
       "{45.56,\n",
       " 'MARKS',\n",
       " 'Table',\n",
       " 'exam',\n",
       " 'examination',\n",
       " 'examiner',\n",
       " 'table',\n",
       " 'timetable'}"
      ]
     },
     "execution_count": 76,
     "metadata": {},
     "output_type": "execute_result"
    }
   ],
   "source": [
    "S4"
   ]
  },
  {
   "cell_type": "code",
   "execution_count": 77,
   "id": "b3a4ace6",
   "metadata": {},
   "outputs": [],
   "source": [
    "s = [4,3543,5765,'fg','rrt',4,3543,5765]"
   ]
  },
  {
   "cell_type": "code",
   "execution_count": 78,
   "id": "58fb1d77",
   "metadata": {},
   "outputs": [
    {
     "data": {
      "text/plain": [
       "{3543, 4, 5765, 'fg', 'rrt'}"
      ]
     },
     "execution_count": 78,
     "metadata": {},
     "output_type": "execute_result"
    }
   ],
   "source": [
    "set(s)"
   ]
  },
  {
   "cell_type": "markdown",
   "id": "6f78a64a",
   "metadata": {},
   "source": [
    "Dictionary"
   ]
  },
  {
   "cell_type": "raw",
   "id": "18efa5bc",
   "metadata": {},
   "source": [
    "Dictionary - Collection of variables stored in pairs(key:value) in flower bracket{}.\n",
    "Key : Unique value like int, string, float, tuple\n",
    "* Note- \n",
    "  Key values cant be special characters, List, Set and Dictionary. \n",
    "  Cant be duplicated.If it's duplicated, it holds only most recent value\n",
    "\n",
    "Value : Can be anything like int,str, float,list, tuple,etc."
   ]
  },
  {
   "cell_type": "code",
   "execution_count": 79,
   "id": "dc58b4bf",
   "metadata": {},
   "outputs": [],
   "source": [
    "D = {1:10,2.3:\"Val\",4j:67,\"key\":567j,(1,2,3,4):(1,2,3,45)}"
   ]
  },
  {
   "cell_type": "code",
   "execution_count": 80,
   "id": "a1efe121",
   "metadata": {},
   "outputs": [
    {
     "data": {
      "text/plain": [
       "{1: 10, 2.3: 'Val', 4j: 67, 'key': 567j, (1, 2, 3, 4): (1, 2, 3, 45)}"
      ]
     },
     "execution_count": 80,
     "metadata": {},
     "output_type": "execute_result"
    }
   ],
   "source": [
    "D"
   ]
  },
  {
   "cell_type": "code",
   "execution_count": 81,
   "id": "131642cb",
   "metadata": {},
   "outputs": [
    {
     "data": {
      "text/plain": [
       "dict"
      ]
     },
     "execution_count": 81,
     "metadata": {},
     "output_type": "execute_result"
    }
   ],
   "source": [
    "type(D)"
   ]
  },
  {
   "cell_type": "code",
   "execution_count": 82,
   "id": "6baf34d2",
   "metadata": {},
   "outputs": [],
   "source": [
    "D1 = {1:10,2.3:\"Val\",4j:67,\"key\":567j,(1,2,3):[1,2,3,45]}"
   ]
  },
  {
   "cell_type": "code",
   "execution_count": 83,
   "id": "918ac496",
   "metadata": {},
   "outputs": [
    {
     "data": {
      "text/plain": [
       "{1: 10, 2.3: 'Val', 4j: 67, 'key': 567j, (1, 2, 3): [1, 2, 3, 45]}"
      ]
     },
     "execution_count": 83,
     "metadata": {},
     "output_type": "execute_result"
    }
   ],
   "source": [
    "D1"
   ]
  },
  {
   "cell_type": "code",
   "execution_count": 84,
   "id": "8a0dbc74",
   "metadata": {},
   "outputs": [
    {
     "ename": "TypeError",
     "evalue": "unhashable type: 'set'",
     "output_type": "error",
     "traceback": [
      "\u001b[1;31m---------------------------------------------------------------------------\u001b[0m",
      "\u001b[1;31mTypeError\u001b[0m                                 Traceback (most recent call last)",
      "\u001b[1;32m<ipython-input-84-1e49645361c8>\u001b[0m in \u001b[0;36m<module>\u001b[1;34m\u001b[0m\n\u001b[1;32m----> 1\u001b[1;33m \u001b[0mD2\u001b[0m \u001b[1;33m=\u001b[0m \u001b[1;33m{\u001b[0m\u001b[1;33m{\u001b[0m\u001b[1;36m1\u001b[0m\u001b[1;33m:\u001b[0m\u001b[1;36m10\u001b[0m\u001b[1;33m,\u001b[0m\u001b[1;36m2.3\u001b[0m\u001b[1;33m:\u001b[0m\u001b[1;34m\"Val\"\u001b[0m\u001b[1;33m,\u001b[0m\u001b[1;36m4j\u001b[0m\u001b[1;33m:\u001b[0m\u001b[1;36m67\u001b[0m\u001b[1;33m,\u001b[0m\u001b[1;34m\"key\"\u001b[0m\u001b[1;33m:\u001b[0m\u001b[1;36m567j\u001b[0m\u001b[1;33m,\u001b[0m\u001b[1;33m{\u001b[0m\u001b[1;36m1\u001b[0m\u001b[1;33m,\u001b[0m\u001b[1;36m2\u001b[0m\u001b[1;33m,\u001b[0m\u001b[1;36m3\u001b[0m\u001b[1;33m,\u001b[0m\u001b[1;36m4\u001b[0m\u001b[1;33m}\u001b[0m\u001b[1;33m:\u001b[0m\u001b[1;33m(\u001b[0m\u001b[1;36m1\u001b[0m\u001b[1;33m,\u001b[0m\u001b[1;36m2\u001b[0m\u001b[1;33m,\u001b[0m\u001b[1;36m3\u001b[0m\u001b[1;33m,\u001b[0m\u001b[1;36m45\u001b[0m\u001b[1;33m)\u001b[0m\u001b[1;33m}\u001b[0m\u001b[1;33m}\u001b[0m\u001b[1;33m\u001b[0m\u001b[1;33m\u001b[0m\u001b[0m\n\u001b[0m",
      "\u001b[1;31mTypeError\u001b[0m: unhashable type: 'set'"
     ]
    }
   ],
   "source": [
    "D2 = {{1:10,2.3:\"Val\",4j:67,\"key\":567j,{1,2,3,4}:(1,2,3,45)}}"
   ]
  },
  {
   "cell_type": "code",
   "execution_count": 85,
   "id": "33ccf327",
   "metadata": {},
   "outputs": [
    {
     "ename": "TypeError",
     "evalue": "unhashable type: 'dict'",
     "output_type": "error",
     "traceback": [
      "\u001b[1;31m---------------------------------------------------------------------------\u001b[0m",
      "\u001b[1;31mTypeError\u001b[0m                                 Traceback (most recent call last)",
      "\u001b[1;32m<ipython-input-85-218f52da8d6a>\u001b[0m in \u001b[0;36m<module>\u001b[1;34m\u001b[0m\n\u001b[1;32m----> 1\u001b[1;33m \u001b[0mD3\u001b[0m \u001b[1;33m=\u001b[0m \u001b[1;33m{\u001b[0m\u001b[1;33m{\u001b[0m\u001b[1;36m1\u001b[0m\u001b[1;33m:\u001b[0m\u001b[1;36m10\u001b[0m\u001b[1;33m,\u001b[0m\u001b[1;36m2.3\u001b[0m\u001b[1;33m:\u001b[0m\u001b[1;34m\"Val\"\u001b[0m\u001b[1;33m,\u001b[0m\u001b[1;36m4j\u001b[0m\u001b[1;33m:\u001b[0m\u001b[1;36m67\u001b[0m\u001b[1;33m,\u001b[0m\u001b[1;34m\"key\"\u001b[0m\u001b[1;33m:\u001b[0m\u001b[1;36m567j\u001b[0m\u001b[1;33m}\u001b[0m\u001b[1;33m:\u001b[0m\u001b[1;34m\"dict\"\u001b[0m\u001b[1;33m}\u001b[0m\u001b[1;33m\u001b[0m\u001b[1;33m\u001b[0m\u001b[0m\n\u001b[0m",
      "\u001b[1;31mTypeError\u001b[0m: unhashable type: 'dict'"
     ]
    }
   ],
   "source": [
    "D3 = {{1:10,2.3:\"Val\",4j:67,\"key\":567j}:\"dict\"}"
   ]
  },
  {
   "cell_type": "code",
   "execution_count": 86,
   "id": "feca10fb",
   "metadata": {},
   "outputs": [],
   "source": [
    "D4 = {1:10,2.3:\"Val\",4j:67,\"key\":567j,(1,2,3,4):(1,2,3,45)}"
   ]
  },
  {
   "cell_type": "code",
   "execution_count": 87,
   "id": "7da2bbee",
   "metadata": {},
   "outputs": [
    {
     "data": {
      "text/plain": [
       "{'V': None, 'a': None, 'l': None}"
      ]
     },
     "execution_count": 87,
     "metadata": {},
     "output_type": "execute_result"
    }
   ],
   "source": [
    "D4.fromkeys('Val')"
   ]
  },
  {
   "cell_type": "code",
   "execution_count": 88,
   "id": "017ce447",
   "metadata": {},
   "outputs": [
    {
     "data": {
      "text/plain": [
       "{1: None, 2: None, 3: None, 4: None}"
      ]
     },
     "execution_count": 88,
     "metadata": {},
     "output_type": "execute_result"
    }
   ],
   "source": [
    "D4.fromkeys((1,2,3,4))"
   ]
  },
  {
   "cell_type": "code",
   "execution_count": 89,
   "id": "995f990e",
   "metadata": {},
   "outputs": [
    {
     "data": {
      "text/plain": [
       "dict_keys([1, 2.3, 4j, 'key', (1, 2, 3, 4)])"
      ]
     },
     "execution_count": 89,
     "metadata": {},
     "output_type": "execute_result"
    }
   ],
   "source": [
    "D4.keys()"
   ]
  },
  {
   "cell_type": "code",
   "execution_count": 90,
   "id": "4fb53cfc",
   "metadata": {},
   "outputs": [],
   "source": [
    "D5 =D4.copy()"
   ]
  },
  {
   "cell_type": "code",
   "execution_count": 91,
   "id": "e2938fe5",
   "metadata": {},
   "outputs": [
    {
     "data": {
      "text/plain": [
       "{1: 10, 2.3: 'Val', 4j: 67, 'key': 567j, (1, 2, 3, 4): (1, 2, 3, 45)}"
      ]
     },
     "execution_count": 91,
     "metadata": {},
     "output_type": "execute_result"
    }
   ],
   "source": [
    "D5"
   ]
  },
  {
   "cell_type": "code",
   "execution_count": 92,
   "id": "098b356c",
   "metadata": {},
   "outputs": [
    {
     "data": {
      "text/plain": [
       "dict_items([(1, 10), (2.3, 'Val'), (4j, 67), ('key', 567j), ((1, 2, 3, 4), (1, 2, 3, 45))])"
      ]
     },
     "execution_count": 92,
     "metadata": {},
     "output_type": "execute_result"
    }
   ],
   "source": [
    "D5.items()"
   ]
  },
  {
   "cell_type": "code",
   "execution_count": 93,
   "id": "5bb6bbf4",
   "metadata": {},
   "outputs": [],
   "source": [
    "D6 = {1:10,2.3:\"Val\",4j:67,\"key\":567j,(1,2,3):[1,2,3],'dict':{'Val':'key1','val':\"Key\"},\"key\":985}"
   ]
  },
  {
   "cell_type": "code",
   "execution_count": 94,
   "id": "e2cb7dac",
   "metadata": {},
   "outputs": [
    {
     "data": {
      "text/plain": [
       "985"
      ]
     },
     "execution_count": 94,
     "metadata": {},
     "output_type": "execute_result"
    }
   ],
   "source": [
    "D6[\"key\"]"
   ]
  },
  {
   "cell_type": "raw",
   "id": "e506686d",
   "metadata": {},
   "source": [
    "# Key value has to be always unique, if its duplicated then its existing value is updated"
   ]
  },
  {
   "cell_type": "code",
   "execution_count": 95,
   "id": "146ec974",
   "metadata": {},
   "outputs": [
    {
     "data": {
      "text/plain": [
       "'Key'"
      ]
     },
     "execution_count": 95,
     "metadata": {},
     "output_type": "execute_result"
    }
   ],
   "source": [
    "D6['dict']['val']"
   ]
  },
  {
   "cell_type": "code",
   "execution_count": 96,
   "id": "96b75b57",
   "metadata": {},
   "outputs": [
    {
     "data": {
      "text/plain": [
       "dict_keys([1, 2.3, 4j, 'key', (1, 2, 3), 'dict'])"
      ]
     },
     "execution_count": 96,
     "metadata": {},
     "output_type": "execute_result"
    }
   ],
   "source": [
    "D6.keys()"
   ]
  },
  {
   "cell_type": "code",
   "execution_count": 97,
   "id": "06d02227",
   "metadata": {},
   "outputs": [
    {
     "data": {
      "text/plain": [
       "dict_values([10, 'Val', 67, 985, [1, 2, 3], {'Val': 'key1', 'val': 'Key'}])"
      ]
     },
     "execution_count": 97,
     "metadata": {},
     "output_type": "execute_result"
    }
   ],
   "source": [
    "D6.values()"
   ]
  },
  {
   "cell_type": "code",
   "execution_count": 98,
   "id": "d90ccf47",
   "metadata": {},
   "outputs": [],
   "source": [
    "# Assigning new key : value to dictionary"
   ]
  },
  {
   "cell_type": "code",
   "execution_count": 99,
   "id": "e5937fef",
   "metadata": {},
   "outputs": [],
   "source": [
    "D6[\"key1\"]= \"insert\""
   ]
  },
  {
   "cell_type": "code",
   "execution_count": 100,
   "id": "6453979e",
   "metadata": {},
   "outputs": [
    {
     "data": {
      "text/plain": [
       "{1: 10,\n",
       " 2.3: 'Val',\n",
       " 4j: 67,\n",
       " 'key': 985,\n",
       " (1, 2, 3): [1, 2, 3],\n",
       " 'dict': {'Val': 'key1', 'val': 'Key'},\n",
       " 'key1': 'insert'}"
      ]
     },
     "execution_count": 100,
     "metadata": {},
     "output_type": "execute_result"
    }
   ],
   "source": [
    "D6"
   ]
  },
  {
   "cell_type": "code",
   "execution_count": 101,
   "id": "dc23d5ad",
   "metadata": {},
   "outputs": [],
   "source": [
    "# Updating value to existing key in dictionary"
   ]
  },
  {
   "cell_type": "code",
   "execution_count": 102,
   "id": "d7a79eaf",
   "metadata": {},
   "outputs": [],
   "source": [
    "D6['key']= \"Lock\""
   ]
  },
  {
   "cell_type": "code",
   "execution_count": 103,
   "id": "4022b1c9",
   "metadata": {},
   "outputs": [
    {
     "data": {
      "text/plain": [
       "{1: 10,\n",
       " 2.3: 'Val',\n",
       " 4j: 67,\n",
       " 'key': 'Lock',\n",
       " (1, 2, 3): [1, 2, 3],\n",
       " 'dict': {'Val': 'key1', 'val': 'Key'},\n",
       " 'key1': 'insert'}"
      ]
     },
     "execution_count": 103,
     "metadata": {},
     "output_type": "execute_result"
    }
   ],
   "source": [
    "D6"
   ]
  },
  {
   "cell_type": "code",
   "execution_count": 104,
   "id": "b6c5cb16",
   "metadata": {},
   "outputs": [
    {
     "data": {
      "text/plain": [
       "{'Val': 'key1', 'val': 'Key'}"
      ]
     },
     "execution_count": 104,
     "metadata": {},
     "output_type": "execute_result"
    }
   ],
   "source": [
    "D6.get(\"dict\")"
   ]
  },
  {
   "cell_type": "code",
   "execution_count": 105,
   "id": "3088b0b4",
   "metadata": {},
   "outputs": [],
   "source": [
    "# It gives value for key when key is presented in dictionary, else it returns none"
   ]
  },
  {
   "cell_type": "code",
   "execution_count": 111,
   "id": "f9cdbbcb",
   "metadata": {},
   "outputs": [
    {
     "data": {
      "text/plain": [
       "{1: 10, 2.3: 'Val', 4j: 67, 'key': 567j, (1, 2, 3, 4): (1, 2, 3, 45)}"
      ]
     },
     "execution_count": 111,
     "metadata": {},
     "output_type": "execute_result"
    }
   ],
   "source": [
    "D4"
   ]
  },
  {
   "cell_type": "code",
   "execution_count": 112,
   "id": "00fc7687",
   "metadata": {},
   "outputs": [],
   "source": [
    "key = (\"cia\",'bella','caro')\n",
    "value = (\"sweet\")"
   ]
  },
  {
   "cell_type": "code",
   "execution_count": 115,
   "id": "d3b68b79",
   "metadata": {},
   "outputs": [],
   "source": [
    "d = D4.fromkeys(key,value)"
   ]
  },
  {
   "cell_type": "code",
   "execution_count": 116,
   "id": "60b63017",
   "metadata": {},
   "outputs": [
    {
     "data": {
      "text/plain": [
       "{'cia': 'sweet', 'bella': 'sweet', 'caro': 'sweet'}"
      ]
     },
     "execution_count": 116,
     "metadata": {},
     "output_type": "execute_result"
    }
   ],
   "source": [
    "d"
   ]
  },
  {
   "cell_type": "code",
   "execution_count": null,
   "id": "5caa763f",
   "metadata": {},
   "outputs": [],
   "source": []
  }
 ],
 "metadata": {
  "kernelspec": {
   "display_name": "Python 3",
   "language": "python",
   "name": "python3"
  },
  "language_info": {
   "codemirror_mode": {
    "name": "ipython",
    "version": 3
   },
   "file_extension": ".py",
   "mimetype": "text/x-python",
   "name": "python",
   "nbconvert_exporter": "python",
   "pygments_lexer": "ipython3",
   "version": "3.8.8"
  }
 },
 "nbformat": 4,
 "nbformat_minor": 5
}
