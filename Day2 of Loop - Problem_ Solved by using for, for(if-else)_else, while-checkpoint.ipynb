{
 "cells": [
  {
   "cell_type": "code",
   "execution_count": 1,
   "id": "f0a39e73",
   "metadata": {},
   "outputs": [
    {
     "name": "stdout",
     "output_type": "stream",
     "text": [
      "26\n"
     ]
    }
   ],
   "source": [
    "# Problem-1: Determine len of string without using inbuilt function (len):\n",
    "count = 0\n",
    "for i in \"Strange things happen here\":\n",
    "    count = count+1\n",
    "print(count)"
   ]
  },
  {
   "cell_type": "code",
   "execution_count": 2,
   "id": "3b71b0a7",
   "metadata": {},
   "outputs": [
    {
     "name": "stdout",
     "output_type": "stream",
     "text": [
      "saedi yzarc emos sah ffets"
     ]
    }
   ],
   "source": [
    "# Problem-2: Reverse the statement withousing slicing operation\n",
    "l = \"steff has some crazy ideas\"\n",
    "for i in range(len(l)-1,-1,-1):\n",
    "    print(l[i],end=\"\")"
   ]
  },
  {
   "cell_type": "code",
   "execution_count": 3,
   "id": "d70d1075",
   "metadata": {},
   "outputs": [
    {
     "name": "stdout",
     "output_type": "stream",
     "text": [
      "saedi yzarc emos sah ffets"
     ]
    }
   ],
   "source": [
    "# Another approach: Using while loop\n",
    "i = len(l)-1\n",
    "while (i>=0):\n",
    "    print(l[i], end='')\n",
    "    i = i-1"
   ]
  },
  {
   "cell_type": "code",
   "execution_count": 4,
   "id": "05ea2a7f",
   "metadata": {},
   "outputs": [
    {
     "name": "stdout",
     "output_type": "stream",
     "text": [
      "['I', 'u', 'e', 'o']\n",
      "['n', 'r', 'n']\n"
     ]
    }
   ],
   "source": [
    "# Problem-3: Segment given string into Vowel & Non-vowel lists\n",
    "I = \"Inueron\"\n",
    "V = \"AaEeIiOoUu\"\n",
    "v = []\n",
    "nv = []\n",
    "for i in I:\n",
    "    if i in V:\n",
    "        v.append(i)\n",
    "    else:\n",
    "        nv.append(i)\n",
    "print(v)\n",
    "print(nv)"
   ]
  },
  {
   "cell_type": "code",
   "execution_count": 5,
   "id": "4cb76e7e",
   "metadata": {},
   "outputs": [
    {
     "name": "stdout",
     "output_type": "stream",
     "text": [
      "liril\n",
      "liril is a palindrome\n"
     ]
    }
   ],
   "source": [
    "# Problem-4: Check following string is a palindrome or not\n",
    "I1 = input()\n",
    "I2 = I1[::-1]\n",
    "\n",
    "if I1 == I2:\n",
    "    print(I1,\"is a palindrome\")\n",
    "else:\n",
    "    print(I1,\"isn't a palindrome\")"
   ]
  },
  {
   "cell_type": "code",
   "execution_count": 6,
   "id": "8b3c7075",
   "metadata": {},
   "outputs": [
    {
     "name": "stdout",
     "output_type": "stream",
     "text": [
      "soles\n",
      "soles isn't a palindrome\n"
     ]
    }
   ],
   "source": [
    "# Method 2:\n",
    "word = input()\n",
    "for i in range(len(word)):\n",
    "    if word[i]!=word[len(word)-i-1]:\n",
    "        print(word,\"isn't a palindrome\")\n",
    "        break\n",
    "else:\n",
    "    print(word,\"is a palindrome\")"
   ]
  },
  {
   "cell_type": "code",
   "execution_count": 7,
   "id": "8c6ca467",
   "metadata": {},
   "outputs": [
    {
     "name": "stdout",
     "output_type": "stream",
     "text": [
      "tnent\n",
      "tnent a palindrome\n"
     ]
    }
   ],
   "source": [
    "# Method 3:\n",
    "S1 = input()\n",
    "len1 = len(S1)\n",
    "\n",
    "for i in range(len1):\n",
    "    if S1[i]==S1[len1-i-1]:\n",
    "        continue\n",
    "    else:\n",
    "        print(S1,\"Not a palindrome\")\n",
    "        break\n",
    "else:\n",
    "    print(S1,\"a palindrome\")"
   ]
  },
  {
   "cell_type": "code",
   "execution_count": 8,
   "id": "8c65695a",
   "metadata": {},
   "outputs": [],
   "source": [
    "d = {\"India\":\"IN\",\"America\":\"USA\",\"Canada\":\"CA\",\"China\":\"CH\",\"Japan\":\"J\"}"
   ]
  },
  {
   "cell_type": "code",
   "execution_count": 9,
   "id": "56b23e6d",
   "metadata": {},
   "outputs": [
    {
     "data": {
      "text/plain": [
       "True"
      ]
     },
     "execution_count": 9,
     "metadata": {},
     "output_type": "execute_result"
    }
   ],
   "source": [
    "# Determine wheteher India is in dictionary or not\n",
    "\"India\"in d"
   ]
  },
  {
   "cell_type": "code",
   "execution_count": 10,
   "id": "86a05f4f",
   "metadata": {},
   "outputs": [
    {
     "data": {
      "text/plain": [
       "True"
      ]
     },
     "execution_count": 10,
     "metadata": {},
     "output_type": "execute_result"
    }
   ],
   "source": [
    "\"J\" in d.values()"
   ]
  },
  {
   "cell_type": "code",
   "execution_count": 11,
   "id": "c6cdd92e",
   "metadata": {},
   "outputs": [
    {
     "name": "stdout",
     "output_type": "stream",
     "text": [
      "India\n",
      "America\n",
      "Canada\n",
      "China\n",
      "Japan\n"
     ]
    }
   ],
   "source": [
    "for i in d:\n",
    "    print(i)"
   ]
  },
  {
   "cell_type": "code",
   "execution_count": 12,
   "id": "d4c17d08",
   "metadata": {},
   "outputs": [
    {
     "name": "stdout",
     "output_type": "stream",
     "text": [
      "['India', 'China', 'Japan']\n",
      "['America', 'Canada']\n"
     ]
    }
   ],
   "source": [
    "# Problem-5: Print 2 different lists consisting len of keys<5 & len of keys>5\n",
    "L1 = []\n",
    "L2 = []\n",
    "for i in d:\n",
    "    if len(i)<=5:\n",
    "        L1.append(i)\n",
    "    else:\n",
    "        L2.append(i)\n",
    "print(L1)\n",
    "print(L2)"
   ]
  },
  {
   "cell_type": "code",
   "execution_count": 13,
   "id": "ea55fc0e",
   "metadata": {},
   "outputs": [],
   "source": [
    "d1 ={\"Inueron\":{\"a\":18,\"b\":12,\"c\":6},\n",
    "    \"Course\":{\"d\":45,\"e\":87,\"f\":45.589}}"
   ]
  },
  {
   "cell_type": "code",
   "execution_count": 14,
   "id": "2fbc94d7",
   "metadata": {},
   "outputs": [
    {
     "name": "stdout",
     "output_type": "stream",
     "text": [
      "18\n",
      "87\n"
     ]
    }
   ],
   "source": [
    "# Problem-6: Find out max.value inside each nested dictionary\n",
    "Max = []\n",
    "for i in d1:\n",
    "    for j in d1[i]:\n",
    "        Max.append(d1[i][j])\n",
    "    print(max(Max))"
   ]
  },
  {
   "cell_type": "code",
   "execution_count": 15,
   "id": "354a0abc",
   "metadata": {},
   "outputs": [
    {
     "name": "stdout",
     "output_type": "stream",
     "text": [
      "18\n",
      "87\n"
     ]
    }
   ],
   "source": [
    "# Method 2:\n",
    "for i in d1.values():\n",
    "    mx = 0\n",
    "    for j in i.values():\n",
    "        if mx<j:\n",
    "            mx=j\n",
    "    else:\n",
    "        print(mx)"
   ]
  },
  {
   "cell_type": "code",
   "execution_count": 16,
   "id": "b8042cb9",
   "metadata": {},
   "outputs": [
    {
     "name": "stdout",
     "output_type": "stream",
     "text": [
      "18\n",
      "87\n"
     ]
    }
   ],
   "source": [
    "# Method 3:\n",
    "for i in d1.values():\n",
    "    print(max(i.values()))"
   ]
  },
  {
   "cell_type": "code",
   "execution_count": 17,
   "id": "8c794010",
   "metadata": {},
   "outputs": [
    {
     "name": "stdout",
     "output_type": "stream",
     "text": [
      "18\n",
      "87\n"
     ]
    }
   ],
   "source": [
    "#Method 4:\n",
    "for i in d1.keys():\n",
    "    print(max(d1[i].values()))"
   ]
  },
  {
   "cell_type": "code",
   "execution_count": 18,
   "id": "28e84757",
   "metadata": {},
   "outputs": [],
   "source": [
    "# Problem-7: Find out max value of following nested dictionary \n",
    "d2 = {\"1nueron\":{\"b\":24,\"key\":45,\"a\":89,\"c\":69.8},\n",
    "     \"Batch\":{\"A\":56,\"B\":65,\"C\":42},\n",
    "     \"Class\":874,\n",
    "     \"Strength\":[896,478,520,69],\n",
    "     \"Total\":\"Present\",\n",
    "     \"Staff\":(10,15,75),\n",
    "     \"Teacher\":985}"
   ]
  },
  {
   "cell_type": "code",
   "execution_count": 19,
   "id": "6d28f9b3",
   "metadata": {},
   "outputs": [
    {
     "name": "stdout",
     "output_type": "stream",
     "text": [
      "896\n"
     ]
    }
   ],
   "source": [
    "#Method -1:\n",
    "E = []\n",
    "for i in d2.values():\n",
    "    if type(i)!=str or type(i)!=complex:\n",
    "        if type(i)==list or type(i)==tuple or type(i)==set:\n",
    "            E.append(max(i))\n",
    "    elif type(i)==dict:\n",
    "        for j in i.values():\n",
    "            if type(j)==int or type(j)==float:\n",
    "                E.append(j)\n",
    "            elif type(j)==list or type(j)==tuple or type(j)==set:\n",
    "                E.append(j)\n",
    "            elif type(j)==dict:\n",
    "                for k in j.values():\n",
    "                    if type(k)==int or type(k)==float:\n",
    "                        E.append(k)\n",
    "            else:\n",
    "                pass\n",
    "    else:\n",
    "        E.append(i)\n",
    "\n",
    "print(max(E))"
   ]
  },
  {
   "cell_type": "code",
   "execution_count": 20,
   "id": "34e62c6c",
   "metadata": {},
   "outputs": [
    {
     "name": "stdout",
     "output_type": "stream",
     "text": [
      "985\n"
     ]
    }
   ],
   "source": [
    "#Method-2:\n",
    "Max = []\n",
    "for i in d2.values():\n",
    "    if type(i)==dict:\n",
    "        for inner_value in i.values():\n",
    "            if type(inner_value)==str or type(inner_value)==complex:\n",
    "                pass\n",
    "            elif type(inner_value)== list or type(inner_value)==tuple:\n",
    "                Max.append(max(inner_value))\n",
    "            else:\n",
    "                Max.append(inner_value)\n",
    "            \n",
    "    elif type(i)==int:\n",
    "        Max.append(i)\n",
    "    \n",
    "    elif type(i)==tuple or type(i)==list:\n",
    "        for inner_value in i:\n",
    "            if type(inner_value)==str or type(inner_value)==complex:\n",
    "                pass\n",
    "            elif type(inner_value)==list or type(inner_value)==tuple:\n",
    "                Max.append(i)\n",
    "   \n",
    "    else:\n",
    "        pass   \n",
    "    \n",
    "print(max(Max))"
   ]
  },
  {
   "cell_type": "code",
   "execution_count": 21,
   "id": "5ecfaa70",
   "metadata": {},
   "outputs": [
    {
     "name": "stdout",
     "output_type": "stream",
     "text": [
      "4785\n"
     ]
    }
   ],
   "source": [
    "# Problem-8: Find out max value of following nested dictionary when it has key & value both as strings in its nested dict\n",
    "d3 = {\"1nueron\":{\"b\":\"string\",\"key\":45,\"a\":89,\"c\":69.8},\n",
    "     \"Batch\":{\"A\":56,\"B\":65,\"C\":42},\n",
    "     \"Class\":874,\n",
    "     \"Strength\":[896,4785,520,69],\n",
    "     \"Total\":\"Present\",\n",
    "     \"Staff\":(10,15,75),\n",
    "     \"Teacher\":985}\n",
    "\n",
    "max_val = float('-inf')\n",
    "for i in d3.values():\n",
    "    if isinstance(i, dict):\n",
    "        for inner_value in i.values():\n",
    "            if isinstance(inner_value, (int, float, complex)):\n",
    "                max_val = max(max_val, inner_value)\n",
    "    \n",
    "    elif isinstance(i, (int, float, complex)):\n",
    "        max_val = max(max_val, i)\n",
    "    \n",
    "    elif isinstance(i, (list, tuple)):\n",
    "        max_val = max(max_val, max(i))\n",
    "\n",
    "print(max_val)"
   ]
  },
  {
   "cell_type": "code",
   "execution_count": null,
   "id": "cd8ca862",
   "metadata": {},
   "outputs": [],
   "source": []
  }
 ],
 "metadata": {
  "kernelspec": {
   "display_name": "Python 3",
   "language": "python",
   "name": "python3"
  },
  "language_info": {
   "codemirror_mode": {
    "name": "ipython",
    "version": 3
   },
   "file_extension": ".py",
   "mimetype": "text/x-python",
   "name": "python",
   "nbconvert_exporter": "python",
   "pygments_lexer": "ipython3",
   "version": "3.8.8"
  }
 },
 "nbformat": 4,
 "nbformat_minor": 5
}
